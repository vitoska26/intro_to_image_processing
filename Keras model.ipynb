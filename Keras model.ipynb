{
  "nbformat": 4,
  "nbformat_minor": 0,
  "metadata": {
    "colab": {
      "name": "Copy of Untitled8.ipynb",
      "provenance": [],
      "collapsed_sections": []
    },
    "kernelspec": {
      "name": "python3",
      "display_name": "Python 3"
    },
    "language_info": {
      "name": "python"
    },
    "accelerator": "GPU",
    "widgets": {
      "application/vnd.jupyter.widget-state+json": {
        "b51778bee1e0473b90c7ece2f209ea2c": {
          "model_module": "@jupyter-widgets/controls",
          "model_name": "HBoxModel",
          "model_module_version": "1.5.0",
          "state": {
            "_view_name": "HBoxView",
            "_dom_classes": [],
            "_model_name": "HBoxModel",
            "_view_module": "@jupyter-widgets/controls",
            "_model_module_version": "1.5.0",
            "_view_count": null,
            "_view_module_version": "1.5.0",
            "box_style": "",
            "layout": "IPY_MODEL_ebd0befe37844c20b341e430c730ab33",
            "_model_module": "@jupyter-widgets/controls",
            "children": [
              "IPY_MODEL_ca025ff5f0844542a36bb3dbf31a9b03",
              "IPY_MODEL_982aa0b49324432cb17660d008c8db94",
              "IPY_MODEL_60c3bce584194902a11e746638302d81"
            ]
          }
        },
        "ebd0befe37844c20b341e430c730ab33": {
          "model_module": "@jupyter-widgets/base",
          "model_name": "LayoutModel",
          "model_module_version": "1.2.0",
          "state": {
            "_view_name": "LayoutView",
            "grid_template_rows": null,
            "right": null,
            "justify_content": null,
            "_view_module": "@jupyter-widgets/base",
            "overflow": null,
            "_model_module_version": "1.2.0",
            "_view_count": null,
            "flex_flow": null,
            "width": null,
            "min_width": null,
            "border": null,
            "align_items": null,
            "bottom": null,
            "_model_module": "@jupyter-widgets/base",
            "top": null,
            "grid_column": null,
            "overflow_y": null,
            "overflow_x": null,
            "grid_auto_flow": null,
            "grid_area": null,
            "grid_template_columns": null,
            "flex": null,
            "_model_name": "LayoutModel",
            "justify_items": null,
            "grid_row": null,
            "max_height": null,
            "align_content": null,
            "visibility": null,
            "align_self": null,
            "height": null,
            "min_height": null,
            "padding": null,
            "grid_auto_rows": null,
            "grid_gap": null,
            "max_width": null,
            "order": null,
            "_view_module_version": "1.2.0",
            "grid_template_areas": null,
            "object_position": null,
            "object_fit": null,
            "grid_auto_columns": null,
            "margin": null,
            "display": null,
            "left": null
          }
        },
        "ca025ff5f0844542a36bb3dbf31a9b03": {
          "model_module": "@jupyter-widgets/controls",
          "model_name": "HTMLModel",
          "model_module_version": "1.5.0",
          "state": {
            "_view_name": "HTMLView",
            "style": "IPY_MODEL_6a450840942f49fd850da400b0321c3a",
            "_dom_classes": [],
            "description": "",
            "_model_name": "HTMLModel",
            "placeholder": "​",
            "_view_module": "@jupyter-widgets/controls",
            "_model_module_version": "1.5.0",
            "value": "Dl Completed...: 100%",
            "_view_count": null,
            "_view_module_version": "1.5.0",
            "description_tooltip": null,
            "_model_module": "@jupyter-widgets/controls",
            "layout": "IPY_MODEL_df80231a7f9c41c5bd58f74fb7892322"
          }
        },
        "982aa0b49324432cb17660d008c8db94": {
          "model_module": "@jupyter-widgets/controls",
          "model_name": "FloatProgressModel",
          "model_module_version": "1.5.0",
          "state": {
            "_view_name": "ProgressView",
            "style": "IPY_MODEL_824b1c63d1f04533be79ccc3159daa50",
            "_dom_classes": [],
            "description": "",
            "_model_name": "FloatProgressModel",
            "bar_style": "success",
            "max": 1,
            "_view_module": "@jupyter-widgets/controls",
            "_model_module_version": "1.5.0",
            "value": 1,
            "_view_count": null,
            "_view_module_version": "1.5.0",
            "orientation": "horizontal",
            "min": 0,
            "description_tooltip": null,
            "_model_module": "@jupyter-widgets/controls",
            "layout": "IPY_MODEL_5aabb7e61a414555a2155f6b064ce27d"
          }
        },
        "60c3bce584194902a11e746638302d81": {
          "model_module": "@jupyter-widgets/controls",
          "model_name": "HTMLModel",
          "model_module_version": "1.5.0",
          "state": {
            "_view_name": "HTMLView",
            "style": "IPY_MODEL_9fd482a87e3441e6afd81be12f0a3160",
            "_dom_classes": [],
            "description": "",
            "_model_name": "HTMLModel",
            "placeholder": "​",
            "_view_module": "@jupyter-widgets/controls",
            "_model_module_version": "1.5.0",
            "value": " 3/3 [00:02&lt;00:00,  1.04 url/s]",
            "_view_count": null,
            "_view_module_version": "1.5.0",
            "description_tooltip": null,
            "_model_module": "@jupyter-widgets/controls",
            "layout": "IPY_MODEL_9cfce8acead34a41949d06ddb96011b0"
          }
        },
        "6a450840942f49fd850da400b0321c3a": {
          "model_module": "@jupyter-widgets/controls",
          "model_name": "DescriptionStyleModel",
          "model_module_version": "1.5.0",
          "state": {
            "_view_name": "StyleView",
            "_model_name": "DescriptionStyleModel",
            "description_width": "",
            "_view_module": "@jupyter-widgets/base",
            "_model_module_version": "1.5.0",
            "_view_count": null,
            "_view_module_version": "1.2.0",
            "_model_module": "@jupyter-widgets/controls"
          }
        },
        "df80231a7f9c41c5bd58f74fb7892322": {
          "model_module": "@jupyter-widgets/base",
          "model_name": "LayoutModel",
          "model_module_version": "1.2.0",
          "state": {
            "_view_name": "LayoutView",
            "grid_template_rows": null,
            "right": null,
            "justify_content": null,
            "_view_module": "@jupyter-widgets/base",
            "overflow": null,
            "_model_module_version": "1.2.0",
            "_view_count": null,
            "flex_flow": null,
            "width": null,
            "min_width": null,
            "border": null,
            "align_items": null,
            "bottom": null,
            "_model_module": "@jupyter-widgets/base",
            "top": null,
            "grid_column": null,
            "overflow_y": null,
            "overflow_x": null,
            "grid_auto_flow": null,
            "grid_area": null,
            "grid_template_columns": null,
            "flex": null,
            "_model_name": "LayoutModel",
            "justify_items": null,
            "grid_row": null,
            "max_height": null,
            "align_content": null,
            "visibility": null,
            "align_self": null,
            "height": null,
            "min_height": null,
            "padding": null,
            "grid_auto_rows": null,
            "grid_gap": null,
            "max_width": null,
            "order": null,
            "_view_module_version": "1.2.0",
            "grid_template_areas": null,
            "object_position": null,
            "object_fit": null,
            "grid_auto_columns": null,
            "margin": null,
            "display": null,
            "left": null
          }
        },
        "824b1c63d1f04533be79ccc3159daa50": {
          "model_module": "@jupyter-widgets/controls",
          "model_name": "ProgressStyleModel",
          "model_module_version": "1.5.0",
          "state": {
            "_view_name": "StyleView",
            "_model_name": "ProgressStyleModel",
            "description_width": "",
            "_view_module": "@jupyter-widgets/base",
            "_model_module_version": "1.5.0",
            "_view_count": null,
            "_view_module_version": "1.2.0",
            "bar_color": null,
            "_model_module": "@jupyter-widgets/controls"
          }
        },
        "5aabb7e61a414555a2155f6b064ce27d": {
          "model_module": "@jupyter-widgets/base",
          "model_name": "LayoutModel",
          "model_module_version": "1.2.0",
          "state": {
            "_view_name": "LayoutView",
            "grid_template_rows": null,
            "right": null,
            "justify_content": null,
            "_view_module": "@jupyter-widgets/base",
            "overflow": null,
            "_model_module_version": "1.2.0",
            "_view_count": null,
            "flex_flow": null,
            "width": "20px",
            "min_width": null,
            "border": null,
            "align_items": null,
            "bottom": null,
            "_model_module": "@jupyter-widgets/base",
            "top": null,
            "grid_column": null,
            "overflow_y": null,
            "overflow_x": null,
            "grid_auto_flow": null,
            "grid_area": null,
            "grid_template_columns": null,
            "flex": null,
            "_model_name": "LayoutModel",
            "justify_items": null,
            "grid_row": null,
            "max_height": null,
            "align_content": null,
            "visibility": null,
            "align_self": null,
            "height": null,
            "min_height": null,
            "padding": null,
            "grid_auto_rows": null,
            "grid_gap": null,
            "max_width": null,
            "order": null,
            "_view_module_version": "1.2.0",
            "grid_template_areas": null,
            "object_position": null,
            "object_fit": null,
            "grid_auto_columns": null,
            "margin": null,
            "display": null,
            "left": null
          }
        },
        "9fd482a87e3441e6afd81be12f0a3160": {
          "model_module": "@jupyter-widgets/controls",
          "model_name": "DescriptionStyleModel",
          "model_module_version": "1.5.0",
          "state": {
            "_view_name": "StyleView",
            "_model_name": "DescriptionStyleModel",
            "description_width": "",
            "_view_module": "@jupyter-widgets/base",
            "_model_module_version": "1.5.0",
            "_view_count": null,
            "_view_module_version": "1.2.0",
            "_model_module": "@jupyter-widgets/controls"
          }
        },
        "9cfce8acead34a41949d06ddb96011b0": {
          "model_module": "@jupyter-widgets/base",
          "model_name": "LayoutModel",
          "model_module_version": "1.2.0",
          "state": {
            "_view_name": "LayoutView",
            "grid_template_rows": null,
            "right": null,
            "justify_content": null,
            "_view_module": "@jupyter-widgets/base",
            "overflow": null,
            "_model_module_version": "1.2.0",
            "_view_count": null,
            "flex_flow": null,
            "width": null,
            "min_width": null,
            "border": null,
            "align_items": null,
            "bottom": null,
            "_model_module": "@jupyter-widgets/base",
            "top": null,
            "grid_column": null,
            "overflow_y": null,
            "overflow_x": null,
            "grid_auto_flow": null,
            "grid_area": null,
            "grid_template_columns": null,
            "flex": null,
            "_model_name": "LayoutModel",
            "justify_items": null,
            "grid_row": null,
            "max_height": null,
            "align_content": null,
            "visibility": null,
            "align_self": null,
            "height": null,
            "min_height": null,
            "padding": null,
            "grid_auto_rows": null,
            "grid_gap": null,
            "max_width": null,
            "order": null,
            "_view_module_version": "1.2.0",
            "grid_template_areas": null,
            "object_position": null,
            "object_fit": null,
            "grid_auto_columns": null,
            "margin": null,
            "display": null,
            "left": null
          }
        },
        "2e504aa51ced4f5989c6b4ab69229d0b": {
          "model_module": "@jupyter-widgets/controls",
          "model_name": "HBoxModel",
          "model_module_version": "1.5.0",
          "state": {
            "_view_name": "HBoxView",
            "_dom_classes": [],
            "_model_name": "HBoxModel",
            "_view_module": "@jupyter-widgets/controls",
            "_model_module_version": "1.5.0",
            "_view_count": null,
            "_view_module_version": "1.5.0",
            "box_style": "",
            "layout": "IPY_MODEL_0a90b5d3ebd84a469b36bc0d1de95fa8",
            "_model_module": "@jupyter-widgets/controls",
            "children": [
              "IPY_MODEL_de402e26076b4727b6b73f41df50c4ac",
              "IPY_MODEL_a18727abe63e4a3bb9927cac7c45eb42",
              "IPY_MODEL_3879c20961b44825931abb3b41d23350"
            ]
          }
        },
        "0a90b5d3ebd84a469b36bc0d1de95fa8": {
          "model_module": "@jupyter-widgets/base",
          "model_name": "LayoutModel",
          "model_module_version": "1.2.0",
          "state": {
            "_view_name": "LayoutView",
            "grid_template_rows": null,
            "right": null,
            "justify_content": null,
            "_view_module": "@jupyter-widgets/base",
            "overflow": null,
            "_model_module_version": "1.2.0",
            "_view_count": null,
            "flex_flow": null,
            "width": null,
            "min_width": null,
            "border": null,
            "align_items": null,
            "bottom": null,
            "_model_module": "@jupyter-widgets/base",
            "top": null,
            "grid_column": null,
            "overflow_y": null,
            "overflow_x": null,
            "grid_auto_flow": null,
            "grid_area": null,
            "grid_template_columns": null,
            "flex": null,
            "_model_name": "LayoutModel",
            "justify_items": null,
            "grid_row": null,
            "max_height": null,
            "align_content": null,
            "visibility": null,
            "align_self": null,
            "height": null,
            "min_height": null,
            "padding": null,
            "grid_auto_rows": null,
            "grid_gap": null,
            "max_width": null,
            "order": null,
            "_view_module_version": "1.2.0",
            "grid_template_areas": null,
            "object_position": null,
            "object_fit": null,
            "grid_auto_columns": null,
            "margin": null,
            "display": null,
            "left": null
          }
        },
        "de402e26076b4727b6b73f41df50c4ac": {
          "model_module": "@jupyter-widgets/controls",
          "model_name": "HTMLModel",
          "model_module_version": "1.5.0",
          "state": {
            "_view_name": "HTMLView",
            "style": "IPY_MODEL_ae694a86f04841a0a1c827afe98f1bb5",
            "_dom_classes": [],
            "description": "",
            "_model_name": "HTMLModel",
            "placeholder": "​",
            "_view_module": "@jupyter-widgets/controls",
            "_model_module_version": "1.5.0",
            "value": "Dl Size...: 100%",
            "_view_count": null,
            "_view_module_version": "1.5.0",
            "description_tooltip": null,
            "_model_module": "@jupyter-widgets/controls",
            "layout": "IPY_MODEL_3fbb913e63d04f958f1924d8959dc75b"
          }
        },
        "a18727abe63e4a3bb9927cac7c45eb42": {
          "model_module": "@jupyter-widgets/controls",
          "model_name": "FloatProgressModel",
          "model_module_version": "1.5.0",
          "state": {
            "_view_name": "ProgressView",
            "style": "IPY_MODEL_72e19565dc75411d946019ac6ff1d86f",
            "_dom_classes": [],
            "description": "",
            "_model_name": "FloatProgressModel",
            "bar_style": "success",
            "max": 1,
            "_view_module": "@jupyter-widgets/controls",
            "_model_module_version": "1.5.0",
            "value": 1,
            "_view_count": null,
            "_view_module_version": "1.5.0",
            "orientation": "horizontal",
            "min": 0,
            "description_tooltip": null,
            "_model_module": "@jupyter-widgets/controls",
            "layout": "IPY_MODEL_ae400ed5086c4bd6979a660817daaf8c"
          }
        },
        "3879c20961b44825931abb3b41d23350": {
          "model_module": "@jupyter-widgets/controls",
          "model_name": "HTMLModel",
          "model_module_version": "1.5.0",
          "state": {
            "_view_name": "HTMLView",
            "style": "IPY_MODEL_0d8f61d791384bc0a3509bfa7686a253",
            "_dom_classes": [],
            "description": "",
            "_model_name": "HTMLModel",
            "placeholder": "​",
            "_view_module": "@jupyter-widgets/controls",
            "_model_module_version": "1.5.0",
            "value": " 170/170 [00:02&lt;00:00, 77.83 MiB/s]",
            "_view_count": null,
            "_view_module_version": "1.5.0",
            "description_tooltip": null,
            "_model_module": "@jupyter-widgets/controls",
            "layout": "IPY_MODEL_49b592049c0e4eb9bad04bd79fbd4223"
          }
        },
        "ae694a86f04841a0a1c827afe98f1bb5": {
          "model_module": "@jupyter-widgets/controls",
          "model_name": "DescriptionStyleModel",
          "model_module_version": "1.5.0",
          "state": {
            "_view_name": "StyleView",
            "_model_name": "DescriptionStyleModel",
            "description_width": "",
            "_view_module": "@jupyter-widgets/base",
            "_model_module_version": "1.5.0",
            "_view_count": null,
            "_view_module_version": "1.2.0",
            "_model_module": "@jupyter-widgets/controls"
          }
        },
        "3fbb913e63d04f958f1924d8959dc75b": {
          "model_module": "@jupyter-widgets/base",
          "model_name": "LayoutModel",
          "model_module_version": "1.2.0",
          "state": {
            "_view_name": "LayoutView",
            "grid_template_rows": null,
            "right": null,
            "justify_content": null,
            "_view_module": "@jupyter-widgets/base",
            "overflow": null,
            "_model_module_version": "1.2.0",
            "_view_count": null,
            "flex_flow": null,
            "width": null,
            "min_width": null,
            "border": null,
            "align_items": null,
            "bottom": null,
            "_model_module": "@jupyter-widgets/base",
            "top": null,
            "grid_column": null,
            "overflow_y": null,
            "overflow_x": null,
            "grid_auto_flow": null,
            "grid_area": null,
            "grid_template_columns": null,
            "flex": null,
            "_model_name": "LayoutModel",
            "justify_items": null,
            "grid_row": null,
            "max_height": null,
            "align_content": null,
            "visibility": null,
            "align_self": null,
            "height": null,
            "min_height": null,
            "padding": null,
            "grid_auto_rows": null,
            "grid_gap": null,
            "max_width": null,
            "order": null,
            "_view_module_version": "1.2.0",
            "grid_template_areas": null,
            "object_position": null,
            "object_fit": null,
            "grid_auto_columns": null,
            "margin": null,
            "display": null,
            "left": null
          }
        },
        "72e19565dc75411d946019ac6ff1d86f": {
          "model_module": "@jupyter-widgets/controls",
          "model_name": "ProgressStyleModel",
          "model_module_version": "1.5.0",
          "state": {
            "_view_name": "StyleView",
            "_model_name": "ProgressStyleModel",
            "description_width": "",
            "_view_module": "@jupyter-widgets/base",
            "_model_module_version": "1.5.0",
            "_view_count": null,
            "_view_module_version": "1.2.0",
            "bar_color": null,
            "_model_module": "@jupyter-widgets/controls"
          }
        },
        "ae400ed5086c4bd6979a660817daaf8c": {
          "model_module": "@jupyter-widgets/base",
          "model_name": "LayoutModel",
          "model_module_version": "1.2.0",
          "state": {
            "_view_name": "LayoutView",
            "grid_template_rows": null,
            "right": null,
            "justify_content": null,
            "_view_module": "@jupyter-widgets/base",
            "overflow": null,
            "_model_module_version": "1.2.0",
            "_view_count": null,
            "flex_flow": null,
            "width": "20px",
            "min_width": null,
            "border": null,
            "align_items": null,
            "bottom": null,
            "_model_module": "@jupyter-widgets/base",
            "top": null,
            "grid_column": null,
            "overflow_y": null,
            "overflow_x": null,
            "grid_auto_flow": null,
            "grid_area": null,
            "grid_template_columns": null,
            "flex": null,
            "_model_name": "LayoutModel",
            "justify_items": null,
            "grid_row": null,
            "max_height": null,
            "align_content": null,
            "visibility": null,
            "align_self": null,
            "height": null,
            "min_height": null,
            "padding": null,
            "grid_auto_rows": null,
            "grid_gap": null,
            "max_width": null,
            "order": null,
            "_view_module_version": "1.2.0",
            "grid_template_areas": null,
            "object_position": null,
            "object_fit": null,
            "grid_auto_columns": null,
            "margin": null,
            "display": null,
            "left": null
          }
        },
        "0d8f61d791384bc0a3509bfa7686a253": {
          "model_module": "@jupyter-widgets/controls",
          "model_name": "DescriptionStyleModel",
          "model_module_version": "1.5.0",
          "state": {
            "_view_name": "StyleView",
            "_model_name": "DescriptionStyleModel",
            "description_width": "",
            "_view_module": "@jupyter-widgets/base",
            "_model_module_version": "1.5.0",
            "_view_count": null,
            "_view_module_version": "1.2.0",
            "_model_module": "@jupyter-widgets/controls"
          }
        },
        "49b592049c0e4eb9bad04bd79fbd4223": {
          "model_module": "@jupyter-widgets/base",
          "model_name": "LayoutModel",
          "model_module_version": "1.2.0",
          "state": {
            "_view_name": "LayoutView",
            "grid_template_rows": null,
            "right": null,
            "justify_content": null,
            "_view_module": "@jupyter-widgets/base",
            "overflow": null,
            "_model_module_version": "1.2.0",
            "_view_count": null,
            "flex_flow": null,
            "width": null,
            "min_width": null,
            "border": null,
            "align_items": null,
            "bottom": null,
            "_model_module": "@jupyter-widgets/base",
            "top": null,
            "grid_column": null,
            "overflow_y": null,
            "overflow_x": null,
            "grid_auto_flow": null,
            "grid_area": null,
            "grid_template_columns": null,
            "flex": null,
            "_model_name": "LayoutModel",
            "justify_items": null,
            "grid_row": null,
            "max_height": null,
            "align_content": null,
            "visibility": null,
            "align_self": null,
            "height": null,
            "min_height": null,
            "padding": null,
            "grid_auto_rows": null,
            "grid_gap": null,
            "max_width": null,
            "order": null,
            "_view_module_version": "1.2.0",
            "grid_template_areas": null,
            "object_position": null,
            "object_fit": null,
            "grid_auto_columns": null,
            "margin": null,
            "display": null,
            "left": null
          }
        },
        "3b46ce5497074f01bc005c47a654a02b": {
          "model_module": "@jupyter-widgets/controls",
          "model_name": "HBoxModel",
          "model_module_version": "1.5.0",
          "state": {
            "_view_name": "HBoxView",
            "_dom_classes": [],
            "_model_name": "HBoxModel",
            "_view_module": "@jupyter-widgets/controls",
            "_model_module_version": "1.5.0",
            "_view_count": null,
            "_view_module_version": "1.5.0",
            "box_style": "",
            "layout": "IPY_MODEL_db07f02e3e6c4d98b56361c3f7d77797",
            "_model_module": "@jupyter-widgets/controls",
            "children": [
              "IPY_MODEL_6647ecaabd3b497b8e15f5188ac44606",
              "IPY_MODEL_1d3be651ae984b7184b597005516065b",
              "IPY_MODEL_f83cb1fb68ae47eca87ece2937dc6801"
            ]
          }
        },
        "db07f02e3e6c4d98b56361c3f7d77797": {
          "model_module": "@jupyter-widgets/base",
          "model_name": "LayoutModel",
          "model_module_version": "1.2.0",
          "state": {
            "_view_name": "LayoutView",
            "grid_template_rows": null,
            "right": null,
            "justify_content": null,
            "_view_module": "@jupyter-widgets/base",
            "overflow": null,
            "_model_module_version": "1.2.0",
            "_view_count": null,
            "flex_flow": null,
            "width": null,
            "min_width": null,
            "border": null,
            "align_items": null,
            "bottom": null,
            "_model_module": "@jupyter-widgets/base",
            "top": null,
            "grid_column": null,
            "overflow_y": null,
            "overflow_x": null,
            "grid_auto_flow": null,
            "grid_area": null,
            "grid_template_columns": null,
            "flex": null,
            "_model_name": "LayoutModel",
            "justify_items": null,
            "grid_row": null,
            "max_height": null,
            "align_content": null,
            "visibility": null,
            "align_self": null,
            "height": null,
            "min_height": null,
            "padding": null,
            "grid_auto_rows": null,
            "grid_gap": null,
            "max_width": null,
            "order": null,
            "_view_module_version": "1.2.0",
            "grid_template_areas": null,
            "object_position": null,
            "object_fit": null,
            "grid_auto_columns": null,
            "margin": null,
            "display": null,
            "left": null
          }
        },
        "6647ecaabd3b497b8e15f5188ac44606": {
          "model_module": "@jupyter-widgets/controls",
          "model_name": "HTMLModel",
          "model_module_version": "1.5.0",
          "state": {
            "_view_name": "HTMLView",
            "style": "IPY_MODEL_62b9c4f952f944d5849ff86eb0409eec",
            "_dom_classes": [],
            "description": "",
            "_model_name": "HTMLModel",
            "placeholder": "​",
            "_view_module": "@jupyter-widgets/controls",
            "_model_module_version": "1.5.0",
            "value": "",
            "_view_count": null,
            "_view_module_version": "1.5.0",
            "description_tooltip": null,
            "_model_module": "@jupyter-widgets/controls",
            "layout": "IPY_MODEL_d7adfca7643d44e6a46c20771c8403b6"
          }
        },
        "1d3be651ae984b7184b597005516065b": {
          "model_module": "@jupyter-widgets/controls",
          "model_name": "FloatProgressModel",
          "model_module_version": "1.5.0",
          "state": {
            "_view_name": "ProgressView",
            "style": "IPY_MODEL_ad2302cc1ace406e88b7e653fbb7ad6a",
            "_dom_classes": [],
            "description": "",
            "_model_name": "FloatProgressModel",
            "bar_style": "info",
            "max": 1,
            "_view_module": "@jupyter-widgets/controls",
            "_model_module_version": "1.5.0",
            "value": 1,
            "_view_count": null,
            "_view_module_version": "1.5.0",
            "orientation": "horizontal",
            "min": 0,
            "description_tooltip": null,
            "_model_module": "@jupyter-widgets/controls",
            "layout": "IPY_MODEL_f409ed4f9a154a119fcd47dfdc2c223e"
          }
        },
        "f83cb1fb68ae47eca87ece2937dc6801": {
          "model_module": "@jupyter-widgets/controls",
          "model_name": "HTMLModel",
          "model_module_version": "1.5.0",
          "state": {
            "_view_name": "HTMLView",
            "style": "IPY_MODEL_1060a31195304d51b56f547e6fbfb097",
            "_dom_classes": [],
            "description": "",
            "_model_name": "HTMLModel",
            "placeholder": "​",
            "_view_module": "@jupyter-widgets/controls",
            "_model_module_version": "1.5.0",
            "value": " 906/0 [00:00&lt;00:00, 1285.50 examples/s]",
            "_view_count": null,
            "_view_module_version": "1.5.0",
            "description_tooltip": null,
            "_model_module": "@jupyter-widgets/controls",
            "layout": "IPY_MODEL_942b7f4a2daf4570b895d611d39360a2"
          }
        },
        "62b9c4f952f944d5849ff86eb0409eec": {
          "model_module": "@jupyter-widgets/controls",
          "model_name": "DescriptionStyleModel",
          "model_module_version": "1.5.0",
          "state": {
            "_view_name": "StyleView",
            "_model_name": "DescriptionStyleModel",
            "description_width": "",
            "_view_module": "@jupyter-widgets/base",
            "_model_module_version": "1.5.0",
            "_view_count": null,
            "_view_module_version": "1.2.0",
            "_model_module": "@jupyter-widgets/controls"
          }
        },
        "d7adfca7643d44e6a46c20771c8403b6": {
          "model_module": "@jupyter-widgets/base",
          "model_name": "LayoutModel",
          "model_module_version": "1.2.0",
          "state": {
            "_view_name": "LayoutView",
            "grid_template_rows": null,
            "right": null,
            "justify_content": null,
            "_view_module": "@jupyter-widgets/base",
            "overflow": null,
            "_model_module_version": "1.2.0",
            "_view_count": null,
            "flex_flow": null,
            "width": null,
            "min_width": null,
            "border": null,
            "align_items": null,
            "bottom": null,
            "_model_module": "@jupyter-widgets/base",
            "top": null,
            "grid_column": null,
            "overflow_y": null,
            "overflow_x": null,
            "grid_auto_flow": null,
            "grid_area": null,
            "grid_template_columns": null,
            "flex": null,
            "_model_name": "LayoutModel",
            "justify_items": null,
            "grid_row": null,
            "max_height": null,
            "align_content": null,
            "visibility": null,
            "align_self": null,
            "height": null,
            "min_height": null,
            "padding": null,
            "grid_auto_rows": null,
            "grid_gap": null,
            "max_width": null,
            "order": null,
            "_view_module_version": "1.2.0",
            "grid_template_areas": null,
            "object_position": null,
            "object_fit": null,
            "grid_auto_columns": null,
            "margin": null,
            "display": null,
            "left": null
          }
        },
        "ad2302cc1ace406e88b7e653fbb7ad6a": {
          "model_module": "@jupyter-widgets/controls",
          "model_name": "ProgressStyleModel",
          "model_module_version": "1.5.0",
          "state": {
            "_view_name": "StyleView",
            "_model_name": "ProgressStyleModel",
            "description_width": "",
            "_view_module": "@jupyter-widgets/base",
            "_model_module_version": "1.5.0",
            "_view_count": null,
            "_view_module_version": "1.2.0",
            "bar_color": null,
            "_model_module": "@jupyter-widgets/controls"
          }
        },
        "f409ed4f9a154a119fcd47dfdc2c223e": {
          "model_module": "@jupyter-widgets/base",
          "model_name": "LayoutModel",
          "model_module_version": "1.2.0",
          "state": {
            "_view_name": "LayoutView",
            "grid_template_rows": null,
            "right": null,
            "justify_content": null,
            "_view_module": "@jupyter-widgets/base",
            "overflow": null,
            "_model_module_version": "1.2.0",
            "_view_count": null,
            "flex_flow": null,
            "width": "20px",
            "min_width": null,
            "border": null,
            "align_items": null,
            "bottom": null,
            "_model_module": "@jupyter-widgets/base",
            "top": null,
            "grid_column": null,
            "overflow_y": null,
            "overflow_x": null,
            "grid_auto_flow": null,
            "grid_area": null,
            "grid_template_columns": null,
            "flex": null,
            "_model_name": "LayoutModel",
            "justify_items": null,
            "grid_row": null,
            "max_height": null,
            "align_content": null,
            "visibility": null,
            "align_self": null,
            "height": null,
            "min_height": null,
            "padding": null,
            "grid_auto_rows": null,
            "grid_gap": null,
            "max_width": null,
            "order": null,
            "_view_module_version": "1.2.0",
            "grid_template_areas": null,
            "object_position": null,
            "object_fit": null,
            "grid_auto_columns": null,
            "margin": null,
            "display": null,
            "left": null
          }
        },
        "1060a31195304d51b56f547e6fbfb097": {
          "model_module": "@jupyter-widgets/controls",
          "model_name": "DescriptionStyleModel",
          "model_module_version": "1.5.0",
          "state": {
            "_view_name": "StyleView",
            "_model_name": "DescriptionStyleModel",
            "description_width": "",
            "_view_module": "@jupyter-widgets/base",
            "_model_module_version": "1.5.0",
            "_view_count": null,
            "_view_module_version": "1.2.0",
            "_model_module": "@jupyter-widgets/controls"
          }
        },
        "942b7f4a2daf4570b895d611d39360a2": {
          "model_module": "@jupyter-widgets/base",
          "model_name": "LayoutModel",
          "model_module_version": "1.2.0",
          "state": {
            "_view_name": "LayoutView",
            "grid_template_rows": null,
            "right": null,
            "justify_content": null,
            "_view_module": "@jupyter-widgets/base",
            "overflow": null,
            "_model_module_version": "1.2.0",
            "_view_count": null,
            "flex_flow": null,
            "width": null,
            "min_width": null,
            "border": null,
            "align_items": null,
            "bottom": null,
            "_model_module": "@jupyter-widgets/base",
            "top": null,
            "grid_column": null,
            "overflow_y": null,
            "overflow_x": null,
            "grid_auto_flow": null,
            "grid_area": null,
            "grid_template_columns": null,
            "flex": null,
            "_model_name": "LayoutModel",
            "justify_items": null,
            "grid_row": null,
            "max_height": null,
            "align_content": null,
            "visibility": null,
            "align_self": null,
            "height": null,
            "min_height": null,
            "padding": null,
            "grid_auto_rows": null,
            "grid_gap": null,
            "max_width": null,
            "order": null,
            "_view_module_version": "1.2.0",
            "grid_template_areas": null,
            "object_position": null,
            "object_fit": null,
            "grid_auto_columns": null,
            "margin": null,
            "display": null,
            "left": null
          }
        },
        "b2cbb43d5fd744bbb6b2062121f15055": {
          "model_module": "@jupyter-widgets/controls",
          "model_name": "HBoxModel",
          "model_module_version": "1.5.0",
          "state": {
            "_view_name": "HBoxView",
            "_dom_classes": [],
            "_model_name": "HBoxModel",
            "_view_module": "@jupyter-widgets/controls",
            "_model_module_version": "1.5.0",
            "_view_count": null,
            "_view_module_version": "1.5.0",
            "box_style": "",
            "layout": "IPY_MODEL_74b383f905c54a9f83ca24fee72b2b7e",
            "_model_module": "@jupyter-widgets/controls",
            "children": [
              "IPY_MODEL_ca1197df91f14387a8a5d55c705f6c7d",
              "IPY_MODEL_3245c84e9e3a4fd0aa76267b08075ce9",
              "IPY_MODEL_227f0596ec46455090a9ac20a29abb06"
            ]
          }
        },
        "74b383f905c54a9f83ca24fee72b2b7e": {
          "model_module": "@jupyter-widgets/base",
          "model_name": "LayoutModel",
          "model_module_version": "1.2.0",
          "state": {
            "_view_name": "LayoutView",
            "grid_template_rows": null,
            "right": null,
            "justify_content": null,
            "_view_module": "@jupyter-widgets/base",
            "overflow": null,
            "_model_module_version": "1.2.0",
            "_view_count": null,
            "flex_flow": null,
            "width": null,
            "min_width": null,
            "border": null,
            "align_items": null,
            "bottom": null,
            "_model_module": "@jupyter-widgets/base",
            "top": null,
            "grid_column": null,
            "overflow_y": null,
            "overflow_x": null,
            "grid_auto_flow": null,
            "grid_area": null,
            "grid_template_columns": null,
            "flex": null,
            "_model_name": "LayoutModel",
            "justify_items": null,
            "grid_row": null,
            "max_height": null,
            "align_content": null,
            "visibility": null,
            "align_self": null,
            "height": null,
            "min_height": null,
            "padding": null,
            "grid_auto_rows": null,
            "grid_gap": null,
            "max_width": null,
            "order": null,
            "_view_module_version": "1.2.0",
            "grid_template_areas": null,
            "object_position": null,
            "object_fit": null,
            "grid_auto_columns": null,
            "margin": null,
            "display": null,
            "left": null
          }
        },
        "ca1197df91f14387a8a5d55c705f6c7d": {
          "model_module": "@jupyter-widgets/controls",
          "model_name": "HTMLModel",
          "model_module_version": "1.5.0",
          "state": {
            "_view_name": "HTMLView",
            "style": "IPY_MODEL_72fa747e7d734f0bb829605023887372",
            "_dom_classes": [],
            "description": "",
            "_model_name": "HTMLModel",
            "placeholder": "​",
            "_view_module": "@jupyter-widgets/controls",
            "_model_module_version": "1.5.0",
            "value": "100%",
            "_view_count": null,
            "_view_module_version": "1.5.0",
            "description_tooltip": null,
            "_model_module": "@jupyter-widgets/controls",
            "layout": "IPY_MODEL_2d2a4048c2f14ac5ac33a3ef7e50796a"
          }
        },
        "3245c84e9e3a4fd0aa76267b08075ce9": {
          "model_module": "@jupyter-widgets/controls",
          "model_name": "FloatProgressModel",
          "model_module_version": "1.5.0",
          "state": {
            "_view_name": "ProgressView",
            "style": "IPY_MODEL_33f9675e47e7468f8104eca0815f2a3a",
            "_dom_classes": [],
            "description": "",
            "_model_name": "FloatProgressModel",
            "bar_style": "danger",
            "max": 1034,
            "_view_module": "@jupyter-widgets/controls",
            "_model_module_version": "1.5.0",
            "value": 1033,
            "_view_count": null,
            "_view_module_version": "1.5.0",
            "orientation": "horizontal",
            "min": 0,
            "description_tooltip": null,
            "_model_module": "@jupyter-widgets/controls",
            "layout": "IPY_MODEL_cbb8b83a85b34ba3ba18148e08425490"
          }
        },
        "227f0596ec46455090a9ac20a29abb06": {
          "model_module": "@jupyter-widgets/controls",
          "model_name": "HTMLModel",
          "model_module_version": "1.5.0",
          "state": {
            "_view_name": "HTMLView",
            "style": "IPY_MODEL_b111675739b34eb88fac5d953dad7f65",
            "_dom_classes": [],
            "description": "",
            "_model_name": "HTMLModel",
            "placeholder": "​",
            "_view_module": "@jupyter-widgets/controls",
            "_model_module_version": "1.5.0",
            "value": " 1033/1034 [00:00&lt;00:00, 3585.78 examples/s]",
            "_view_count": null,
            "_view_module_version": "1.5.0",
            "description_tooltip": null,
            "_model_module": "@jupyter-widgets/controls",
            "layout": "IPY_MODEL_dd8b0c8fbeb141ac82cad3903ba0380d"
          }
        },
        "72fa747e7d734f0bb829605023887372": {
          "model_module": "@jupyter-widgets/controls",
          "model_name": "DescriptionStyleModel",
          "model_module_version": "1.5.0",
          "state": {
            "_view_name": "StyleView",
            "_model_name": "DescriptionStyleModel",
            "description_width": "",
            "_view_module": "@jupyter-widgets/base",
            "_model_module_version": "1.5.0",
            "_view_count": null,
            "_view_module_version": "1.2.0",
            "_model_module": "@jupyter-widgets/controls"
          }
        },
        "2d2a4048c2f14ac5ac33a3ef7e50796a": {
          "model_module": "@jupyter-widgets/base",
          "model_name": "LayoutModel",
          "model_module_version": "1.2.0",
          "state": {
            "_view_name": "LayoutView",
            "grid_template_rows": null,
            "right": null,
            "justify_content": null,
            "_view_module": "@jupyter-widgets/base",
            "overflow": null,
            "_model_module_version": "1.2.0",
            "_view_count": null,
            "flex_flow": null,
            "width": null,
            "min_width": null,
            "border": null,
            "align_items": null,
            "bottom": null,
            "_model_module": "@jupyter-widgets/base",
            "top": null,
            "grid_column": null,
            "overflow_y": null,
            "overflow_x": null,
            "grid_auto_flow": null,
            "grid_area": null,
            "grid_template_columns": null,
            "flex": null,
            "_model_name": "LayoutModel",
            "justify_items": null,
            "grid_row": null,
            "max_height": null,
            "align_content": null,
            "visibility": null,
            "align_self": null,
            "height": null,
            "min_height": null,
            "padding": null,
            "grid_auto_rows": null,
            "grid_gap": null,
            "max_width": null,
            "order": null,
            "_view_module_version": "1.2.0",
            "grid_template_areas": null,
            "object_position": null,
            "object_fit": null,
            "grid_auto_columns": null,
            "margin": null,
            "display": null,
            "left": null
          }
        },
        "33f9675e47e7468f8104eca0815f2a3a": {
          "model_module": "@jupyter-widgets/controls",
          "model_name": "ProgressStyleModel",
          "model_module_version": "1.5.0",
          "state": {
            "_view_name": "StyleView",
            "_model_name": "ProgressStyleModel",
            "description_width": "",
            "_view_module": "@jupyter-widgets/base",
            "_model_module_version": "1.5.0",
            "_view_count": null,
            "_view_module_version": "1.2.0",
            "bar_color": null,
            "_model_module": "@jupyter-widgets/controls"
          }
        },
        "cbb8b83a85b34ba3ba18148e08425490": {
          "model_module": "@jupyter-widgets/base",
          "model_name": "LayoutModel",
          "model_module_version": "1.2.0",
          "state": {
            "_view_name": "LayoutView",
            "grid_template_rows": null,
            "right": null,
            "justify_content": null,
            "_view_module": "@jupyter-widgets/base",
            "overflow": null,
            "_model_module_version": "1.2.0",
            "_view_count": null,
            "flex_flow": null,
            "width": null,
            "min_width": null,
            "border": null,
            "align_items": null,
            "bottom": null,
            "_model_module": "@jupyter-widgets/base",
            "top": null,
            "grid_column": null,
            "overflow_y": null,
            "overflow_x": null,
            "grid_auto_flow": null,
            "grid_area": null,
            "grid_template_columns": null,
            "flex": null,
            "_model_name": "LayoutModel",
            "justify_items": null,
            "grid_row": null,
            "max_height": null,
            "align_content": null,
            "visibility": null,
            "align_self": null,
            "height": null,
            "min_height": null,
            "padding": null,
            "grid_auto_rows": null,
            "grid_gap": null,
            "max_width": null,
            "order": null,
            "_view_module_version": "1.2.0",
            "grid_template_areas": null,
            "object_position": null,
            "object_fit": null,
            "grid_auto_columns": null,
            "margin": null,
            "display": null,
            "left": null
          }
        },
        "b111675739b34eb88fac5d953dad7f65": {
          "model_module": "@jupyter-widgets/controls",
          "model_name": "DescriptionStyleModel",
          "model_module_version": "1.5.0",
          "state": {
            "_view_name": "StyleView",
            "_model_name": "DescriptionStyleModel",
            "description_width": "",
            "_view_module": "@jupyter-widgets/base",
            "_model_module_version": "1.5.0",
            "_view_count": null,
            "_view_module_version": "1.2.0",
            "_model_module": "@jupyter-widgets/controls"
          }
        },
        "dd8b0c8fbeb141ac82cad3903ba0380d": {
          "model_module": "@jupyter-widgets/base",
          "model_name": "LayoutModel",
          "model_module_version": "1.2.0",
          "state": {
            "_view_name": "LayoutView",
            "grid_template_rows": null,
            "right": null,
            "justify_content": null,
            "_view_module": "@jupyter-widgets/base",
            "overflow": null,
            "_model_module_version": "1.2.0",
            "_view_count": null,
            "flex_flow": null,
            "width": null,
            "min_width": null,
            "border": null,
            "align_items": null,
            "bottom": null,
            "_model_module": "@jupyter-widgets/base",
            "top": null,
            "grid_column": null,
            "overflow_y": null,
            "overflow_x": null,
            "grid_auto_flow": null,
            "grid_area": null,
            "grid_template_columns": null,
            "flex": null,
            "_model_name": "LayoutModel",
            "justify_items": null,
            "grid_row": null,
            "max_height": null,
            "align_content": null,
            "visibility": null,
            "align_self": null,
            "height": null,
            "min_height": null,
            "padding": null,
            "grid_auto_rows": null,
            "grid_gap": null,
            "max_width": null,
            "order": null,
            "_view_module_version": "1.2.0",
            "grid_template_areas": null,
            "object_position": null,
            "object_fit": null,
            "grid_auto_columns": null,
            "margin": null,
            "display": null,
            "left": null
          }
        },
        "4d775b41bd7a494eaa57c98efce2cdc2": {
          "model_module": "@jupyter-widgets/controls",
          "model_name": "HBoxModel",
          "model_module_version": "1.5.0",
          "state": {
            "_view_name": "HBoxView",
            "_dom_classes": [],
            "_model_name": "HBoxModel",
            "_view_module": "@jupyter-widgets/controls",
            "_model_module_version": "1.5.0",
            "_view_count": null,
            "_view_module_version": "1.5.0",
            "box_style": "",
            "layout": "IPY_MODEL_776ec7bab11a45b9976b21a58d1bece2",
            "_model_module": "@jupyter-widgets/controls",
            "children": [
              "IPY_MODEL_1f27ceda918148b29860e6d2bd55c2d7",
              "IPY_MODEL_457b01725f7b436ea1e8e62b8d15a633",
              "IPY_MODEL_602606f340b4451c80f5a8a04d570b8a"
            ]
          }
        },
        "776ec7bab11a45b9976b21a58d1bece2": {
          "model_module": "@jupyter-widgets/base",
          "model_name": "LayoutModel",
          "model_module_version": "1.2.0",
          "state": {
            "_view_name": "LayoutView",
            "grid_template_rows": null,
            "right": null,
            "justify_content": null,
            "_view_module": "@jupyter-widgets/base",
            "overflow": null,
            "_model_module_version": "1.2.0",
            "_view_count": null,
            "flex_flow": null,
            "width": null,
            "min_width": null,
            "border": null,
            "align_items": null,
            "bottom": null,
            "_model_module": "@jupyter-widgets/base",
            "top": null,
            "grid_column": null,
            "overflow_y": null,
            "overflow_x": null,
            "grid_auto_flow": null,
            "grid_area": null,
            "grid_template_columns": null,
            "flex": null,
            "_model_name": "LayoutModel",
            "justify_items": null,
            "grid_row": null,
            "max_height": null,
            "align_content": null,
            "visibility": null,
            "align_self": null,
            "height": null,
            "min_height": null,
            "padding": null,
            "grid_auto_rows": null,
            "grid_gap": null,
            "max_width": null,
            "order": null,
            "_view_module_version": "1.2.0",
            "grid_template_areas": null,
            "object_position": null,
            "object_fit": null,
            "grid_auto_columns": null,
            "margin": null,
            "display": null,
            "left": null
          }
        },
        "1f27ceda918148b29860e6d2bd55c2d7": {
          "model_module": "@jupyter-widgets/controls",
          "model_name": "HTMLModel",
          "model_module_version": "1.5.0",
          "state": {
            "_view_name": "HTMLView",
            "style": "IPY_MODEL_4a9dd696df854787901a4c53784d3f10",
            "_dom_classes": [],
            "description": "",
            "_model_name": "HTMLModel",
            "placeholder": "​",
            "_view_module": "@jupyter-widgets/controls",
            "_model_module_version": "1.5.0",
            "value": "",
            "_view_count": null,
            "_view_module_version": "1.5.0",
            "description_tooltip": null,
            "_model_module": "@jupyter-widgets/controls",
            "layout": "IPY_MODEL_175070c8ad934f0dbee7a7ba102dc2d3"
          }
        },
        "457b01725f7b436ea1e8e62b8d15a633": {
          "model_module": "@jupyter-widgets/controls",
          "model_name": "FloatProgressModel",
          "model_module_version": "1.5.0",
          "state": {
            "_view_name": "ProgressView",
            "style": "IPY_MODEL_2c1f572319b7405e8b0e1c9c5622f0ed",
            "_dom_classes": [],
            "description": "",
            "_model_name": "FloatProgressModel",
            "bar_style": "info",
            "max": 1,
            "_view_module": "@jupyter-widgets/controls",
            "_model_module_version": "1.5.0",
            "value": 1,
            "_view_count": null,
            "_view_module_version": "1.5.0",
            "orientation": "horizontal",
            "min": 0,
            "description_tooltip": null,
            "_model_module": "@jupyter-widgets/controls",
            "layout": "IPY_MODEL_43697993c1444948a0a8013e4c93a6a0"
          }
        },
        "602606f340b4451c80f5a8a04d570b8a": {
          "model_module": "@jupyter-widgets/controls",
          "model_name": "HTMLModel",
          "model_module_version": "1.5.0",
          "state": {
            "_view_name": "HTMLView",
            "style": "IPY_MODEL_9444cb041aeb4642bb511b1d858ccc99",
            "_dom_classes": [],
            "description": "",
            "_model_name": "HTMLModel",
            "placeholder": "​",
            "_view_module": "@jupyter-widgets/controls",
            "_model_module_version": "1.5.0",
            "value": " 48/0 [00:00&lt;00:00, 475.97 examples/s]",
            "_view_count": null,
            "_view_module_version": "1.5.0",
            "description_tooltip": null,
            "_model_module": "@jupyter-widgets/controls",
            "layout": "IPY_MODEL_4d6ae4676b554942912b61057a2333e4"
          }
        },
        "4a9dd696df854787901a4c53784d3f10": {
          "model_module": "@jupyter-widgets/controls",
          "model_name": "DescriptionStyleModel",
          "model_module_version": "1.5.0",
          "state": {
            "_view_name": "StyleView",
            "_model_name": "DescriptionStyleModel",
            "description_width": "",
            "_view_module": "@jupyter-widgets/base",
            "_model_module_version": "1.5.0",
            "_view_count": null,
            "_view_module_version": "1.2.0",
            "_model_module": "@jupyter-widgets/controls"
          }
        },
        "175070c8ad934f0dbee7a7ba102dc2d3": {
          "model_module": "@jupyter-widgets/base",
          "model_name": "LayoutModel",
          "model_module_version": "1.2.0",
          "state": {
            "_view_name": "LayoutView",
            "grid_template_rows": null,
            "right": null,
            "justify_content": null,
            "_view_module": "@jupyter-widgets/base",
            "overflow": null,
            "_model_module_version": "1.2.0",
            "_view_count": null,
            "flex_flow": null,
            "width": null,
            "min_width": null,
            "border": null,
            "align_items": null,
            "bottom": null,
            "_model_module": "@jupyter-widgets/base",
            "top": null,
            "grid_column": null,
            "overflow_y": null,
            "overflow_x": null,
            "grid_auto_flow": null,
            "grid_area": null,
            "grid_template_columns": null,
            "flex": null,
            "_model_name": "LayoutModel",
            "justify_items": null,
            "grid_row": null,
            "max_height": null,
            "align_content": null,
            "visibility": null,
            "align_self": null,
            "height": null,
            "min_height": null,
            "padding": null,
            "grid_auto_rows": null,
            "grid_gap": null,
            "max_width": null,
            "order": null,
            "_view_module_version": "1.2.0",
            "grid_template_areas": null,
            "object_position": null,
            "object_fit": null,
            "grid_auto_columns": null,
            "margin": null,
            "display": null,
            "left": null
          }
        },
        "2c1f572319b7405e8b0e1c9c5622f0ed": {
          "model_module": "@jupyter-widgets/controls",
          "model_name": "ProgressStyleModel",
          "model_module_version": "1.5.0",
          "state": {
            "_view_name": "StyleView",
            "_model_name": "ProgressStyleModel",
            "description_width": "",
            "_view_module": "@jupyter-widgets/base",
            "_model_module_version": "1.5.0",
            "_view_count": null,
            "_view_module_version": "1.2.0",
            "bar_color": null,
            "_model_module": "@jupyter-widgets/controls"
          }
        },
        "43697993c1444948a0a8013e4c93a6a0": {
          "model_module": "@jupyter-widgets/base",
          "model_name": "LayoutModel",
          "model_module_version": "1.2.0",
          "state": {
            "_view_name": "LayoutView",
            "grid_template_rows": null,
            "right": null,
            "justify_content": null,
            "_view_module": "@jupyter-widgets/base",
            "overflow": null,
            "_model_module_version": "1.2.0",
            "_view_count": null,
            "flex_flow": null,
            "width": "20px",
            "min_width": null,
            "border": null,
            "align_items": null,
            "bottom": null,
            "_model_module": "@jupyter-widgets/base",
            "top": null,
            "grid_column": null,
            "overflow_y": null,
            "overflow_x": null,
            "grid_auto_flow": null,
            "grid_area": null,
            "grid_template_columns": null,
            "flex": null,
            "_model_name": "LayoutModel",
            "justify_items": null,
            "grid_row": null,
            "max_height": null,
            "align_content": null,
            "visibility": null,
            "align_self": null,
            "height": null,
            "min_height": null,
            "padding": null,
            "grid_auto_rows": null,
            "grid_gap": null,
            "max_width": null,
            "order": null,
            "_view_module_version": "1.2.0",
            "grid_template_areas": null,
            "object_position": null,
            "object_fit": null,
            "grid_auto_columns": null,
            "margin": null,
            "display": null,
            "left": null
          }
        },
        "9444cb041aeb4642bb511b1d858ccc99": {
          "model_module": "@jupyter-widgets/controls",
          "model_name": "DescriptionStyleModel",
          "model_module_version": "1.5.0",
          "state": {
            "_view_name": "StyleView",
            "_model_name": "DescriptionStyleModel",
            "description_width": "",
            "_view_module": "@jupyter-widgets/base",
            "_model_module_version": "1.5.0",
            "_view_count": null,
            "_view_module_version": "1.2.0",
            "_model_module": "@jupyter-widgets/controls"
          }
        },
        "4d6ae4676b554942912b61057a2333e4": {
          "model_module": "@jupyter-widgets/base",
          "model_name": "LayoutModel",
          "model_module_version": "1.2.0",
          "state": {
            "_view_name": "LayoutView",
            "grid_template_rows": null,
            "right": null,
            "justify_content": null,
            "_view_module": "@jupyter-widgets/base",
            "overflow": null,
            "_model_module_version": "1.2.0",
            "_view_count": null,
            "flex_flow": null,
            "width": null,
            "min_width": null,
            "border": null,
            "align_items": null,
            "bottom": null,
            "_model_module": "@jupyter-widgets/base",
            "top": null,
            "grid_column": null,
            "overflow_y": null,
            "overflow_x": null,
            "grid_auto_flow": null,
            "grid_area": null,
            "grid_template_columns": null,
            "flex": null,
            "_model_name": "LayoutModel",
            "justify_items": null,
            "grid_row": null,
            "max_height": null,
            "align_content": null,
            "visibility": null,
            "align_self": null,
            "height": null,
            "min_height": null,
            "padding": null,
            "grid_auto_rows": null,
            "grid_gap": null,
            "max_width": null,
            "order": null,
            "_view_module_version": "1.2.0",
            "grid_template_areas": null,
            "object_position": null,
            "object_fit": null,
            "grid_auto_columns": null,
            "margin": null,
            "display": null,
            "left": null
          }
        },
        "b2e31b305b89440b99846d27fb5910e7": {
          "model_module": "@jupyter-widgets/controls",
          "model_name": "HBoxModel",
          "model_module_version": "1.5.0",
          "state": {
            "_view_name": "HBoxView",
            "_dom_classes": [],
            "_model_name": "HBoxModel",
            "_view_module": "@jupyter-widgets/controls",
            "_model_module_version": "1.5.0",
            "_view_count": null,
            "_view_module_version": "1.5.0",
            "box_style": "",
            "layout": "IPY_MODEL_d638f8d5c30046f48908be0a2956f99f",
            "_model_module": "@jupyter-widgets/controls",
            "children": [
              "IPY_MODEL_b507644ac3f14022847b8c92e716415a",
              "IPY_MODEL_b2f6e665f3984a83a133e5d7789023b1",
              "IPY_MODEL_4ab1dea7d66b44a79b08dae4cb472d1b"
            ]
          }
        },
        "d638f8d5c30046f48908be0a2956f99f": {
          "model_module": "@jupyter-widgets/base",
          "model_name": "LayoutModel",
          "model_module_version": "1.2.0",
          "state": {
            "_view_name": "LayoutView",
            "grid_template_rows": null,
            "right": null,
            "justify_content": null,
            "_view_module": "@jupyter-widgets/base",
            "overflow": null,
            "_model_module_version": "1.2.0",
            "_view_count": null,
            "flex_flow": null,
            "width": null,
            "min_width": null,
            "border": null,
            "align_items": null,
            "bottom": null,
            "_model_module": "@jupyter-widgets/base",
            "top": null,
            "grid_column": null,
            "overflow_y": null,
            "overflow_x": null,
            "grid_auto_flow": null,
            "grid_area": null,
            "grid_template_columns": null,
            "flex": null,
            "_model_name": "LayoutModel",
            "justify_items": null,
            "grid_row": null,
            "max_height": null,
            "align_content": null,
            "visibility": null,
            "align_self": null,
            "height": null,
            "min_height": null,
            "padding": null,
            "grid_auto_rows": null,
            "grid_gap": null,
            "max_width": null,
            "order": null,
            "_view_module_version": "1.2.0",
            "grid_template_areas": null,
            "object_position": null,
            "object_fit": null,
            "grid_auto_columns": null,
            "margin": null,
            "display": null,
            "left": null
          }
        },
        "b507644ac3f14022847b8c92e716415a": {
          "model_module": "@jupyter-widgets/controls",
          "model_name": "HTMLModel",
          "model_module_version": "1.5.0",
          "state": {
            "_view_name": "HTMLView",
            "style": "IPY_MODEL_dc1fffb625b94dd38a605781b5348401",
            "_dom_classes": [],
            "description": "",
            "_model_name": "HTMLModel",
            "placeholder": "​",
            "_view_module": "@jupyter-widgets/controls",
            "_model_module_version": "1.5.0",
            "value": " 99%",
            "_view_count": null,
            "_view_module_version": "1.5.0",
            "description_tooltip": null,
            "_model_module": "@jupyter-widgets/controls",
            "layout": "IPY_MODEL_cd2f72f2d9174ba4aa9bbb2947b48927"
          }
        },
        "b2f6e665f3984a83a133e5d7789023b1": {
          "model_module": "@jupyter-widgets/controls",
          "model_name": "FloatProgressModel",
          "model_module_version": "1.5.0",
          "state": {
            "_view_name": "ProgressView",
            "style": "IPY_MODEL_d322196f4b2e463880094dccfad35dbe",
            "_dom_classes": [],
            "description": "",
            "_model_name": "FloatProgressModel",
            "bar_style": "danger",
            "max": 133,
            "_view_module": "@jupyter-widgets/controls",
            "_model_module_version": "1.5.0",
            "value": 132,
            "_view_count": null,
            "_view_module_version": "1.5.0",
            "orientation": "horizontal",
            "min": 0,
            "description_tooltip": null,
            "_model_module": "@jupyter-widgets/controls",
            "layout": "IPY_MODEL_87a51fd28b1f4ac3ad13ae94e34adb82"
          }
        },
        "4ab1dea7d66b44a79b08dae4cb472d1b": {
          "model_module": "@jupyter-widgets/controls",
          "model_name": "HTMLModel",
          "model_module_version": "1.5.0",
          "state": {
            "_view_name": "HTMLView",
            "style": "IPY_MODEL_08e8fe4f2c9d4d79a1ce77e1e78d63ef",
            "_dom_classes": [],
            "description": "",
            "_model_name": "HTMLModel",
            "placeholder": "​",
            "_view_module": "@jupyter-widgets/controls",
            "_model_module_version": "1.5.0",
            "value": " 132/133 [00:00&lt;00:00, 1928.01 examples/s]",
            "_view_count": null,
            "_view_module_version": "1.5.0",
            "description_tooltip": null,
            "_model_module": "@jupyter-widgets/controls",
            "layout": "IPY_MODEL_75e1e52f4b114ffcb6386d0ae22abede"
          }
        },
        "dc1fffb625b94dd38a605781b5348401": {
          "model_module": "@jupyter-widgets/controls",
          "model_name": "DescriptionStyleModel",
          "model_module_version": "1.5.0",
          "state": {
            "_view_name": "StyleView",
            "_model_name": "DescriptionStyleModel",
            "description_width": "",
            "_view_module": "@jupyter-widgets/base",
            "_model_module_version": "1.5.0",
            "_view_count": null,
            "_view_module_version": "1.2.0",
            "_model_module": "@jupyter-widgets/controls"
          }
        },
        "cd2f72f2d9174ba4aa9bbb2947b48927": {
          "model_module": "@jupyter-widgets/base",
          "model_name": "LayoutModel",
          "model_module_version": "1.2.0",
          "state": {
            "_view_name": "LayoutView",
            "grid_template_rows": null,
            "right": null,
            "justify_content": null,
            "_view_module": "@jupyter-widgets/base",
            "overflow": null,
            "_model_module_version": "1.2.0",
            "_view_count": null,
            "flex_flow": null,
            "width": null,
            "min_width": null,
            "border": null,
            "align_items": null,
            "bottom": null,
            "_model_module": "@jupyter-widgets/base",
            "top": null,
            "grid_column": null,
            "overflow_y": null,
            "overflow_x": null,
            "grid_auto_flow": null,
            "grid_area": null,
            "grid_template_columns": null,
            "flex": null,
            "_model_name": "LayoutModel",
            "justify_items": null,
            "grid_row": null,
            "max_height": null,
            "align_content": null,
            "visibility": null,
            "align_self": null,
            "height": null,
            "min_height": null,
            "padding": null,
            "grid_auto_rows": null,
            "grid_gap": null,
            "max_width": null,
            "order": null,
            "_view_module_version": "1.2.0",
            "grid_template_areas": null,
            "object_position": null,
            "object_fit": null,
            "grid_auto_columns": null,
            "margin": null,
            "display": null,
            "left": null
          }
        },
        "d322196f4b2e463880094dccfad35dbe": {
          "model_module": "@jupyter-widgets/controls",
          "model_name": "ProgressStyleModel",
          "model_module_version": "1.5.0",
          "state": {
            "_view_name": "StyleView",
            "_model_name": "ProgressStyleModel",
            "description_width": "",
            "_view_module": "@jupyter-widgets/base",
            "_model_module_version": "1.5.0",
            "_view_count": null,
            "_view_module_version": "1.2.0",
            "bar_color": null,
            "_model_module": "@jupyter-widgets/controls"
          }
        },
        "87a51fd28b1f4ac3ad13ae94e34adb82": {
          "model_module": "@jupyter-widgets/base",
          "model_name": "LayoutModel",
          "model_module_version": "1.2.0",
          "state": {
            "_view_name": "LayoutView",
            "grid_template_rows": null,
            "right": null,
            "justify_content": null,
            "_view_module": "@jupyter-widgets/base",
            "overflow": null,
            "_model_module_version": "1.2.0",
            "_view_count": null,
            "flex_flow": null,
            "width": null,
            "min_width": null,
            "border": null,
            "align_items": null,
            "bottom": null,
            "_model_module": "@jupyter-widgets/base",
            "top": null,
            "grid_column": null,
            "overflow_y": null,
            "overflow_x": null,
            "grid_auto_flow": null,
            "grid_area": null,
            "grid_template_columns": null,
            "flex": null,
            "_model_name": "LayoutModel",
            "justify_items": null,
            "grid_row": null,
            "max_height": null,
            "align_content": null,
            "visibility": null,
            "align_self": null,
            "height": null,
            "min_height": null,
            "padding": null,
            "grid_auto_rows": null,
            "grid_gap": null,
            "max_width": null,
            "order": null,
            "_view_module_version": "1.2.0",
            "grid_template_areas": null,
            "object_position": null,
            "object_fit": null,
            "grid_auto_columns": null,
            "margin": null,
            "display": null,
            "left": null
          }
        },
        "08e8fe4f2c9d4d79a1ce77e1e78d63ef": {
          "model_module": "@jupyter-widgets/controls",
          "model_name": "DescriptionStyleModel",
          "model_module_version": "1.5.0",
          "state": {
            "_view_name": "StyleView",
            "_model_name": "DescriptionStyleModel",
            "description_width": "",
            "_view_module": "@jupyter-widgets/base",
            "_model_module_version": "1.5.0",
            "_view_count": null,
            "_view_module_version": "1.2.0",
            "_model_module": "@jupyter-widgets/controls"
          }
        },
        "75e1e52f4b114ffcb6386d0ae22abede": {
          "model_module": "@jupyter-widgets/base",
          "model_name": "LayoutModel",
          "model_module_version": "1.2.0",
          "state": {
            "_view_name": "LayoutView",
            "grid_template_rows": null,
            "right": null,
            "justify_content": null,
            "_view_module": "@jupyter-widgets/base",
            "overflow": null,
            "_model_module_version": "1.2.0",
            "_view_count": null,
            "flex_flow": null,
            "width": null,
            "min_width": null,
            "border": null,
            "align_items": null,
            "bottom": null,
            "_model_module": "@jupyter-widgets/base",
            "top": null,
            "grid_column": null,
            "overflow_y": null,
            "overflow_x": null,
            "grid_auto_flow": null,
            "grid_area": null,
            "grid_template_columns": null,
            "flex": null,
            "_model_name": "LayoutModel",
            "justify_items": null,
            "grid_row": null,
            "max_height": null,
            "align_content": null,
            "visibility": null,
            "align_self": null,
            "height": null,
            "min_height": null,
            "padding": null,
            "grid_auto_rows": null,
            "grid_gap": null,
            "max_width": null,
            "order": null,
            "_view_module_version": "1.2.0",
            "grid_template_areas": null,
            "object_position": null,
            "object_fit": null,
            "grid_auto_columns": null,
            "margin": null,
            "display": null,
            "left": null
          }
        },
        "e8bcfa2a0a5344dc85c9519ef495aca1": {
          "model_module": "@jupyter-widgets/controls",
          "model_name": "HBoxModel",
          "model_module_version": "1.5.0",
          "state": {
            "_view_name": "HBoxView",
            "_dom_classes": [],
            "_model_name": "HBoxModel",
            "_view_module": "@jupyter-widgets/controls",
            "_model_module_version": "1.5.0",
            "_view_count": null,
            "_view_module_version": "1.5.0",
            "box_style": "",
            "layout": "IPY_MODEL_152eddfdd9a541328086dc0119f3ea7f",
            "_model_module": "@jupyter-widgets/controls",
            "children": [
              "IPY_MODEL_000e306a2f4f4731a6ab14fd95bd2f3a",
              "IPY_MODEL_4d04fea7c4aa4ef6b0d2a89f6861e77d",
              "IPY_MODEL_6164d1bf6d1f40e5b60fd2614c93d6f7"
            ]
          }
        },
        "152eddfdd9a541328086dc0119f3ea7f": {
          "model_module": "@jupyter-widgets/base",
          "model_name": "LayoutModel",
          "model_module_version": "1.2.0",
          "state": {
            "_view_name": "LayoutView",
            "grid_template_rows": null,
            "right": null,
            "justify_content": null,
            "_view_module": "@jupyter-widgets/base",
            "overflow": null,
            "_model_module_version": "1.2.0",
            "_view_count": null,
            "flex_flow": null,
            "width": null,
            "min_width": null,
            "border": null,
            "align_items": null,
            "bottom": null,
            "_model_module": "@jupyter-widgets/base",
            "top": null,
            "grid_column": null,
            "overflow_y": null,
            "overflow_x": null,
            "grid_auto_flow": null,
            "grid_area": null,
            "grid_template_columns": null,
            "flex": null,
            "_model_name": "LayoutModel",
            "justify_items": null,
            "grid_row": null,
            "max_height": null,
            "align_content": null,
            "visibility": null,
            "align_self": null,
            "height": null,
            "min_height": null,
            "padding": null,
            "grid_auto_rows": null,
            "grid_gap": null,
            "max_width": null,
            "order": null,
            "_view_module_version": "1.2.0",
            "grid_template_areas": null,
            "object_position": null,
            "object_fit": null,
            "grid_auto_columns": null,
            "margin": null,
            "display": null,
            "left": null
          }
        },
        "000e306a2f4f4731a6ab14fd95bd2f3a": {
          "model_module": "@jupyter-widgets/controls",
          "model_name": "HTMLModel",
          "model_module_version": "1.5.0",
          "state": {
            "_view_name": "HTMLView",
            "style": "IPY_MODEL_67d8ca1dea894d53a22178cae69b38ce",
            "_dom_classes": [],
            "description": "",
            "_model_name": "HTMLModel",
            "placeholder": "​",
            "_view_module": "@jupyter-widgets/controls",
            "_model_module_version": "1.5.0",
            "value": "",
            "_view_count": null,
            "_view_module_version": "1.5.0",
            "description_tooltip": null,
            "_model_module": "@jupyter-widgets/controls",
            "layout": "IPY_MODEL_07cc29076cdd4a89ac55529016c95f4a"
          }
        },
        "4d04fea7c4aa4ef6b0d2a89f6861e77d": {
          "model_module": "@jupyter-widgets/controls",
          "model_name": "FloatProgressModel",
          "model_module_version": "1.5.0",
          "state": {
            "_view_name": "ProgressView",
            "style": "IPY_MODEL_e3522c12c18241d79037662c3152c612",
            "_dom_classes": [],
            "description": "",
            "_model_name": "FloatProgressModel",
            "bar_style": "info",
            "max": 1,
            "_view_module": "@jupyter-widgets/controls",
            "_model_module_version": "1.5.0",
            "value": 1,
            "_view_count": null,
            "_view_module_version": "1.5.0",
            "orientation": "horizontal",
            "min": 0,
            "description_tooltip": null,
            "_model_module": "@jupyter-widgets/controls",
            "layout": "IPY_MODEL_87f30dfe51484a76beb0688936cd0c2e"
          }
        },
        "6164d1bf6d1f40e5b60fd2614c93d6f7": {
          "model_module": "@jupyter-widgets/controls",
          "model_name": "HTMLModel",
          "model_module_version": "1.5.0",
          "state": {
            "_view_name": "HTMLView",
            "style": "IPY_MODEL_19b52eefdfb04caf8ae6fee62beee7f7",
            "_dom_classes": [],
            "description": "",
            "_model_name": "HTMLModel",
            "placeholder": "​",
            "_view_module": "@jupyter-widgets/controls",
            "_model_module_version": "1.5.0",
            "value": " 45/0 [00:00&lt;00:00, 447.56 examples/s]",
            "_view_count": null,
            "_view_module_version": "1.5.0",
            "description_tooltip": null,
            "_model_module": "@jupyter-widgets/controls",
            "layout": "IPY_MODEL_6319dbf03b7043eb902fb54d9e002bd0"
          }
        },
        "67d8ca1dea894d53a22178cae69b38ce": {
          "model_module": "@jupyter-widgets/controls",
          "model_name": "DescriptionStyleModel",
          "model_module_version": "1.5.0",
          "state": {
            "_view_name": "StyleView",
            "_model_name": "DescriptionStyleModel",
            "description_width": "",
            "_view_module": "@jupyter-widgets/base",
            "_model_module_version": "1.5.0",
            "_view_count": null,
            "_view_module_version": "1.2.0",
            "_model_module": "@jupyter-widgets/controls"
          }
        },
        "07cc29076cdd4a89ac55529016c95f4a": {
          "model_module": "@jupyter-widgets/base",
          "model_name": "LayoutModel",
          "model_module_version": "1.2.0",
          "state": {
            "_view_name": "LayoutView",
            "grid_template_rows": null,
            "right": null,
            "justify_content": null,
            "_view_module": "@jupyter-widgets/base",
            "overflow": null,
            "_model_module_version": "1.2.0",
            "_view_count": null,
            "flex_flow": null,
            "width": null,
            "min_width": null,
            "border": null,
            "align_items": null,
            "bottom": null,
            "_model_module": "@jupyter-widgets/base",
            "top": null,
            "grid_column": null,
            "overflow_y": null,
            "overflow_x": null,
            "grid_auto_flow": null,
            "grid_area": null,
            "grid_template_columns": null,
            "flex": null,
            "_model_name": "LayoutModel",
            "justify_items": null,
            "grid_row": null,
            "max_height": null,
            "align_content": null,
            "visibility": null,
            "align_self": null,
            "height": null,
            "min_height": null,
            "padding": null,
            "grid_auto_rows": null,
            "grid_gap": null,
            "max_width": null,
            "order": null,
            "_view_module_version": "1.2.0",
            "grid_template_areas": null,
            "object_position": null,
            "object_fit": null,
            "grid_auto_columns": null,
            "margin": null,
            "display": null,
            "left": null
          }
        },
        "e3522c12c18241d79037662c3152c612": {
          "model_module": "@jupyter-widgets/controls",
          "model_name": "ProgressStyleModel",
          "model_module_version": "1.5.0",
          "state": {
            "_view_name": "StyleView",
            "_model_name": "ProgressStyleModel",
            "description_width": "",
            "_view_module": "@jupyter-widgets/base",
            "_model_module_version": "1.5.0",
            "_view_count": null,
            "_view_module_version": "1.2.0",
            "bar_color": null,
            "_model_module": "@jupyter-widgets/controls"
          }
        },
        "87f30dfe51484a76beb0688936cd0c2e": {
          "model_module": "@jupyter-widgets/base",
          "model_name": "LayoutModel",
          "model_module_version": "1.2.0",
          "state": {
            "_view_name": "LayoutView",
            "grid_template_rows": null,
            "right": null,
            "justify_content": null,
            "_view_module": "@jupyter-widgets/base",
            "overflow": null,
            "_model_module_version": "1.2.0",
            "_view_count": null,
            "flex_flow": null,
            "width": "20px",
            "min_width": null,
            "border": null,
            "align_items": null,
            "bottom": null,
            "_model_module": "@jupyter-widgets/base",
            "top": null,
            "grid_column": null,
            "overflow_y": null,
            "overflow_x": null,
            "grid_auto_flow": null,
            "grid_area": null,
            "grid_template_columns": null,
            "flex": null,
            "_model_name": "LayoutModel",
            "justify_items": null,
            "grid_row": null,
            "max_height": null,
            "align_content": null,
            "visibility": null,
            "align_self": null,
            "height": null,
            "min_height": null,
            "padding": null,
            "grid_auto_rows": null,
            "grid_gap": null,
            "max_width": null,
            "order": null,
            "_view_module_version": "1.2.0",
            "grid_template_areas": null,
            "object_position": null,
            "object_fit": null,
            "grid_auto_columns": null,
            "margin": null,
            "display": null,
            "left": null
          }
        },
        "19b52eefdfb04caf8ae6fee62beee7f7": {
          "model_module": "@jupyter-widgets/controls",
          "model_name": "DescriptionStyleModel",
          "model_module_version": "1.5.0",
          "state": {
            "_view_name": "StyleView",
            "_model_name": "DescriptionStyleModel",
            "description_width": "",
            "_view_module": "@jupyter-widgets/base",
            "_model_module_version": "1.5.0",
            "_view_count": null,
            "_view_module_version": "1.2.0",
            "_model_module": "@jupyter-widgets/controls"
          }
        },
        "6319dbf03b7043eb902fb54d9e002bd0": {
          "model_module": "@jupyter-widgets/base",
          "model_name": "LayoutModel",
          "model_module_version": "1.2.0",
          "state": {
            "_view_name": "LayoutView",
            "grid_template_rows": null,
            "right": null,
            "justify_content": null,
            "_view_module": "@jupyter-widgets/base",
            "overflow": null,
            "_model_module_version": "1.2.0",
            "_view_count": null,
            "flex_flow": null,
            "width": null,
            "min_width": null,
            "border": null,
            "align_items": null,
            "bottom": null,
            "_model_module": "@jupyter-widgets/base",
            "top": null,
            "grid_column": null,
            "overflow_y": null,
            "overflow_x": null,
            "grid_auto_flow": null,
            "grid_area": null,
            "grid_template_columns": null,
            "flex": null,
            "_model_name": "LayoutModel",
            "justify_items": null,
            "grid_row": null,
            "max_height": null,
            "align_content": null,
            "visibility": null,
            "align_self": null,
            "height": null,
            "min_height": null,
            "padding": null,
            "grid_auto_rows": null,
            "grid_gap": null,
            "max_width": null,
            "order": null,
            "_view_module_version": "1.2.0",
            "grid_template_areas": null,
            "object_position": null,
            "object_fit": null,
            "grid_auto_columns": null,
            "margin": null,
            "display": null,
            "left": null
          }
        },
        "265de1fed0b64276928a891466954223": {
          "model_module": "@jupyter-widgets/controls",
          "model_name": "HBoxModel",
          "model_module_version": "1.5.0",
          "state": {
            "_view_name": "HBoxView",
            "_dom_classes": [],
            "_model_name": "HBoxModel",
            "_view_module": "@jupyter-widgets/controls",
            "_model_module_version": "1.5.0",
            "_view_count": null,
            "_view_module_version": "1.5.0",
            "box_style": "",
            "layout": "IPY_MODEL_84bb91ca909447afb2112725aac993e3",
            "_model_module": "@jupyter-widgets/controls",
            "children": [
              "IPY_MODEL_9e516a6dee9545079226e99545f61c13",
              "IPY_MODEL_26bca99aba904502b128605cdc755e37",
              "IPY_MODEL_9604481d12974cb18aa609122b78e8d5"
            ]
          }
        },
        "84bb91ca909447afb2112725aac993e3": {
          "model_module": "@jupyter-widgets/base",
          "model_name": "LayoutModel",
          "model_module_version": "1.2.0",
          "state": {
            "_view_name": "LayoutView",
            "grid_template_rows": null,
            "right": null,
            "justify_content": null,
            "_view_module": "@jupyter-widgets/base",
            "overflow": null,
            "_model_module_version": "1.2.0",
            "_view_count": null,
            "flex_flow": null,
            "width": null,
            "min_width": null,
            "border": null,
            "align_items": null,
            "bottom": null,
            "_model_module": "@jupyter-widgets/base",
            "top": null,
            "grid_column": null,
            "overflow_y": null,
            "overflow_x": null,
            "grid_auto_flow": null,
            "grid_area": null,
            "grid_template_columns": null,
            "flex": null,
            "_model_name": "LayoutModel",
            "justify_items": null,
            "grid_row": null,
            "max_height": null,
            "align_content": null,
            "visibility": null,
            "align_self": null,
            "height": null,
            "min_height": null,
            "padding": null,
            "grid_auto_rows": null,
            "grid_gap": null,
            "max_width": null,
            "order": null,
            "_view_module_version": "1.2.0",
            "grid_template_areas": null,
            "object_position": null,
            "object_fit": null,
            "grid_auto_columns": null,
            "margin": null,
            "display": null,
            "left": null
          }
        },
        "9e516a6dee9545079226e99545f61c13": {
          "model_module": "@jupyter-widgets/controls",
          "model_name": "HTMLModel",
          "model_module_version": "1.5.0",
          "state": {
            "_view_name": "HTMLView",
            "style": "IPY_MODEL_2dc2ff8de6984b768ec2ad5e34d48f46",
            "_dom_classes": [],
            "description": "",
            "_model_name": "HTMLModel",
            "placeholder": "​",
            "_view_module": "@jupyter-widgets/controls",
            "_model_module_version": "1.5.0",
            "value": " 99%",
            "_view_count": null,
            "_view_module_version": "1.5.0",
            "description_tooltip": null,
            "_model_module": "@jupyter-widgets/controls",
            "layout": "IPY_MODEL_a503d65885eb4323886391cba6ebf8cb"
          }
        },
        "26bca99aba904502b128605cdc755e37": {
          "model_module": "@jupyter-widgets/controls",
          "model_name": "FloatProgressModel",
          "model_module_version": "1.5.0",
          "state": {
            "_view_name": "ProgressView",
            "style": "IPY_MODEL_9c20fa39932e4f9f8804d0c42905049e",
            "_dom_classes": [],
            "description": "",
            "_model_name": "FloatProgressModel",
            "bar_style": "danger",
            "max": 128,
            "_view_module": "@jupyter-widgets/controls",
            "_model_module_version": "1.5.0",
            "value": 127,
            "_view_count": null,
            "_view_module_version": "1.5.0",
            "orientation": "horizontal",
            "min": 0,
            "description_tooltip": null,
            "_model_module": "@jupyter-widgets/controls",
            "layout": "IPY_MODEL_fb083805528f493fac87804f7c4697e1"
          }
        },
        "9604481d12974cb18aa609122b78e8d5": {
          "model_module": "@jupyter-widgets/controls",
          "model_name": "HTMLModel",
          "model_module_version": "1.5.0",
          "state": {
            "_view_name": "HTMLView",
            "style": "IPY_MODEL_59ba7a1cd3414f11a94c1a9621c62df3",
            "_dom_classes": [],
            "description": "",
            "_model_name": "HTMLModel",
            "placeholder": "​",
            "_view_module": "@jupyter-widgets/controls",
            "_model_module_version": "1.5.0",
            "value": " 127/128 [00:00&lt;00:00, 1998.54 examples/s]",
            "_view_count": null,
            "_view_module_version": "1.5.0",
            "description_tooltip": null,
            "_model_module": "@jupyter-widgets/controls",
            "layout": "IPY_MODEL_4cd4b343ccdf4679b13c6ca660de89fc"
          }
        },
        "2dc2ff8de6984b768ec2ad5e34d48f46": {
          "model_module": "@jupyter-widgets/controls",
          "model_name": "DescriptionStyleModel",
          "model_module_version": "1.5.0",
          "state": {
            "_view_name": "StyleView",
            "_model_name": "DescriptionStyleModel",
            "description_width": "",
            "_view_module": "@jupyter-widgets/base",
            "_model_module_version": "1.5.0",
            "_view_count": null,
            "_view_module_version": "1.2.0",
            "_model_module": "@jupyter-widgets/controls"
          }
        },
        "a503d65885eb4323886391cba6ebf8cb": {
          "model_module": "@jupyter-widgets/base",
          "model_name": "LayoutModel",
          "model_module_version": "1.2.0",
          "state": {
            "_view_name": "LayoutView",
            "grid_template_rows": null,
            "right": null,
            "justify_content": null,
            "_view_module": "@jupyter-widgets/base",
            "overflow": null,
            "_model_module_version": "1.2.0",
            "_view_count": null,
            "flex_flow": null,
            "width": null,
            "min_width": null,
            "border": null,
            "align_items": null,
            "bottom": null,
            "_model_module": "@jupyter-widgets/base",
            "top": null,
            "grid_column": null,
            "overflow_y": null,
            "overflow_x": null,
            "grid_auto_flow": null,
            "grid_area": null,
            "grid_template_columns": null,
            "flex": null,
            "_model_name": "LayoutModel",
            "justify_items": null,
            "grid_row": null,
            "max_height": null,
            "align_content": null,
            "visibility": null,
            "align_self": null,
            "height": null,
            "min_height": null,
            "padding": null,
            "grid_auto_rows": null,
            "grid_gap": null,
            "max_width": null,
            "order": null,
            "_view_module_version": "1.2.0",
            "grid_template_areas": null,
            "object_position": null,
            "object_fit": null,
            "grid_auto_columns": null,
            "margin": null,
            "display": null,
            "left": null
          }
        },
        "9c20fa39932e4f9f8804d0c42905049e": {
          "model_module": "@jupyter-widgets/controls",
          "model_name": "ProgressStyleModel",
          "model_module_version": "1.5.0",
          "state": {
            "_view_name": "StyleView",
            "_model_name": "ProgressStyleModel",
            "description_width": "",
            "_view_module": "@jupyter-widgets/base",
            "_model_module_version": "1.5.0",
            "_view_count": null,
            "_view_module_version": "1.2.0",
            "bar_color": null,
            "_model_module": "@jupyter-widgets/controls"
          }
        },
        "fb083805528f493fac87804f7c4697e1": {
          "model_module": "@jupyter-widgets/base",
          "model_name": "LayoutModel",
          "model_module_version": "1.2.0",
          "state": {
            "_view_name": "LayoutView",
            "grid_template_rows": null,
            "right": null,
            "justify_content": null,
            "_view_module": "@jupyter-widgets/base",
            "overflow": null,
            "_model_module_version": "1.2.0",
            "_view_count": null,
            "flex_flow": null,
            "width": null,
            "min_width": null,
            "border": null,
            "align_items": null,
            "bottom": null,
            "_model_module": "@jupyter-widgets/base",
            "top": null,
            "grid_column": null,
            "overflow_y": null,
            "overflow_x": null,
            "grid_auto_flow": null,
            "grid_area": null,
            "grid_template_columns": null,
            "flex": null,
            "_model_name": "LayoutModel",
            "justify_items": null,
            "grid_row": null,
            "max_height": null,
            "align_content": null,
            "visibility": null,
            "align_self": null,
            "height": null,
            "min_height": null,
            "padding": null,
            "grid_auto_rows": null,
            "grid_gap": null,
            "max_width": null,
            "order": null,
            "_view_module_version": "1.2.0",
            "grid_template_areas": null,
            "object_position": null,
            "object_fit": null,
            "grid_auto_columns": null,
            "margin": null,
            "display": null,
            "left": null
          }
        },
        "59ba7a1cd3414f11a94c1a9621c62df3": {
          "model_module": "@jupyter-widgets/controls",
          "model_name": "DescriptionStyleModel",
          "model_module_version": "1.5.0",
          "state": {
            "_view_name": "StyleView",
            "_model_name": "DescriptionStyleModel",
            "description_width": "",
            "_view_module": "@jupyter-widgets/base",
            "_model_module_version": "1.5.0",
            "_view_count": null,
            "_view_module_version": "1.2.0",
            "_model_module": "@jupyter-widgets/controls"
          }
        },
        "4cd4b343ccdf4679b13c6ca660de89fc": {
          "model_module": "@jupyter-widgets/base",
          "model_name": "LayoutModel",
          "model_module_version": "1.2.0",
          "state": {
            "_view_name": "LayoutView",
            "grid_template_rows": null,
            "right": null,
            "justify_content": null,
            "_view_module": "@jupyter-widgets/base",
            "overflow": null,
            "_model_module_version": "1.2.0",
            "_view_count": null,
            "flex_flow": null,
            "width": null,
            "min_width": null,
            "border": null,
            "align_items": null,
            "bottom": null,
            "_model_module": "@jupyter-widgets/base",
            "top": null,
            "grid_column": null,
            "overflow_y": null,
            "overflow_x": null,
            "grid_auto_flow": null,
            "grid_area": null,
            "grid_template_columns": null,
            "flex": null,
            "_model_name": "LayoutModel",
            "justify_items": null,
            "grid_row": null,
            "max_height": null,
            "align_content": null,
            "visibility": null,
            "align_self": null,
            "height": null,
            "min_height": null,
            "padding": null,
            "grid_auto_rows": null,
            "grid_gap": null,
            "max_width": null,
            "order": null,
            "_view_module_version": "1.2.0",
            "grid_template_areas": null,
            "object_position": null,
            "object_fit": null,
            "grid_auto_columns": null,
            "margin": null,
            "display": null,
            "left": null
          }
        },
        "d497a726f6c548d782a21f52f0c891c3": {
          "model_module": "@jupyter-widgets/controls",
          "model_name": "FileUploadModel",
          "model_module_version": "1.5.0",
          "state": {
            "_view_name": "FileUploadView",
            "_counter": 1,
            "style": "IPY_MODEL_8d40a4e7374e4273be3491e75d8969b8",
            "_dom_classes": [],
            "description": "Upload",
            "multiple": false,
            "_model_name": "FileUploadModel",
            "data": [
              null
            ],
            "button_style": "",
            "_view_module": "@jupyter-widgets/controls",
            "_model_module_version": "1.5.0",
            "accept": "",
            "_view_count": null,
            "disabled": false,
            "_view_module_version": "1.5.0",
            "error": "",
            "description_tooltip": null,
            "metadata": [
              {
                "name": "WhatsApp Image 2022-02-20 at 22.03.02.jpeg",
                "type": "image/jpeg",
                "size": 60446,
                "lastModified": 1645387538227
              }
            ],
            "_model_module": "@jupyter-widgets/controls",
            "layout": "IPY_MODEL_de621fcd6b8e4d669c0c770982960d62",
            "icon": "upload"
          }
        },
        "8d40a4e7374e4273be3491e75d8969b8": {
          "model_module": "@jupyter-widgets/controls",
          "model_name": "ButtonStyleModel",
          "model_module_version": "1.5.0",
          "state": {
            "_view_name": "StyleView",
            "_model_name": "ButtonStyleModel",
            "_view_module": "@jupyter-widgets/base",
            "_model_module_version": "1.5.0",
            "_view_count": null,
            "button_color": null,
            "font_weight": "",
            "_view_module_version": "1.2.0",
            "_model_module": "@jupyter-widgets/controls"
          }
        },
        "de621fcd6b8e4d669c0c770982960d62": {
          "model_module": "@jupyter-widgets/base",
          "model_name": "LayoutModel",
          "model_module_version": "1.2.0",
          "state": {
            "_view_name": "LayoutView",
            "grid_template_rows": null,
            "right": null,
            "justify_content": null,
            "_view_module": "@jupyter-widgets/base",
            "overflow": null,
            "_model_module_version": "1.2.0",
            "_view_count": null,
            "flex_flow": null,
            "width": null,
            "min_width": null,
            "border": null,
            "align_items": null,
            "bottom": null,
            "_model_module": "@jupyter-widgets/base",
            "top": null,
            "grid_column": null,
            "overflow_y": null,
            "overflow_x": null,
            "grid_auto_flow": null,
            "grid_area": null,
            "grid_template_columns": null,
            "flex": null,
            "_model_name": "LayoutModel",
            "justify_items": null,
            "grid_row": null,
            "max_height": null,
            "align_content": null,
            "visibility": null,
            "align_self": null,
            "height": null,
            "min_height": null,
            "padding": null,
            "grid_auto_rows": null,
            "grid_gap": null,
            "max_width": null,
            "order": null,
            "_view_module_version": "1.2.0",
            "grid_template_areas": null,
            "object_position": null,
            "object_fit": null,
            "grid_auto_columns": null,
            "margin": null,
            "display": null,
            "left": null
          }
        },
        "fd7a09cccd054b8382ac750017809a10": {
          "model_module": "@jupyter-widgets/output",
          "model_name": "OutputModel",
          "model_module_version": "1.0.0",
          "state": {
            "_view_name": "OutputView",
            "msg_id": "",
            "_dom_classes": [],
            "_model_name": "OutputModel",
            "outputs": [
              {
                "output_type": "display_data",
                "data": {
                  "image/png": "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\n",
                  "text/plain": "<PIL.Image.Image image mode=RGB size=128x128 at 0x7FDC36809A50>"
                },
                "metadata": {}
              }
            ],
            "_view_module": "@jupyter-widgets/output",
            "_model_module_version": "1.0.0",
            "_view_count": null,
            "_view_module_version": "1.0.0",
            "layout": "IPY_MODEL_ed35a0075e784e5b9347ab64f851ed10",
            "_model_module": "@jupyter-widgets/output"
          }
        },
        "ed35a0075e784e5b9347ab64f851ed10": {
          "model_module": "@jupyter-widgets/base",
          "model_name": "LayoutModel",
          "model_module_version": "1.2.0",
          "state": {
            "_view_name": "LayoutView",
            "grid_template_rows": null,
            "right": null,
            "justify_content": null,
            "_view_module": "@jupyter-widgets/base",
            "overflow": null,
            "_model_module_version": "1.2.0",
            "_view_count": null,
            "flex_flow": null,
            "width": null,
            "min_width": null,
            "border": null,
            "align_items": null,
            "bottom": null,
            "_model_module": "@jupyter-widgets/base",
            "top": null,
            "grid_column": null,
            "overflow_y": null,
            "overflow_x": null,
            "grid_auto_flow": null,
            "grid_area": null,
            "grid_template_columns": null,
            "flex": null,
            "_model_name": "LayoutModel",
            "justify_items": null,
            "grid_row": null,
            "max_height": null,
            "align_content": null,
            "visibility": null,
            "align_self": null,
            "height": null,
            "min_height": null,
            "padding": null,
            "grid_auto_rows": null,
            "grid_gap": null,
            "max_width": null,
            "order": null,
            "_view_module_version": "1.2.0",
            "grid_template_areas": null,
            "object_position": null,
            "object_fit": null,
            "grid_auto_columns": null,
            "margin": null,
            "display": null,
            "left": null
          }
        },
        "cc5dac8db24e49f7874e2bc10e269106": {
          "model_module": "@jupyter-widgets/controls",
          "model_name": "LabelModel",
          "model_module_version": "1.5.0",
          "state": {
            "_view_name": "LabelView",
            "style": "IPY_MODEL_a2b8e367e3bc4e7191e6cb95c777cdb5",
            "_dom_classes": [],
            "description": "",
            "_model_name": "LabelModel",
            "placeholder": "​",
            "_view_module": "@jupyter-widgets/controls",
            "_model_module_version": "1.5.0",
            "value": "Prediction: Angular Leaf Spot. Probabilties: [0.78824663 0.19842094 0.01333238]",
            "_view_count": null,
            "_view_module_version": "1.5.0",
            "description_tooltip": null,
            "_model_module": "@jupyter-widgets/controls",
            "layout": "IPY_MODEL_ef68b54d7595478ca02228f9f37cf085"
          }
        },
        "a2b8e367e3bc4e7191e6cb95c777cdb5": {
          "model_module": "@jupyter-widgets/controls",
          "model_name": "DescriptionStyleModel",
          "model_module_version": "1.5.0",
          "state": {
            "_view_name": "StyleView",
            "_model_name": "DescriptionStyleModel",
            "description_width": "",
            "_view_module": "@jupyter-widgets/base",
            "_model_module_version": "1.5.0",
            "_view_count": null,
            "_view_module_version": "1.2.0",
            "_model_module": "@jupyter-widgets/controls"
          }
        },
        "ef68b54d7595478ca02228f9f37cf085": {
          "model_module": "@jupyter-widgets/base",
          "model_name": "LayoutModel",
          "model_module_version": "1.2.0",
          "state": {
            "_view_name": "LayoutView",
            "grid_template_rows": null,
            "right": null,
            "justify_content": null,
            "_view_module": "@jupyter-widgets/base",
            "overflow": null,
            "_model_module_version": "1.2.0",
            "_view_count": null,
            "flex_flow": null,
            "width": null,
            "min_width": null,
            "border": null,
            "align_items": null,
            "bottom": null,
            "_model_module": "@jupyter-widgets/base",
            "top": null,
            "grid_column": null,
            "overflow_y": null,
            "overflow_x": null,
            "grid_auto_flow": null,
            "grid_area": null,
            "grid_template_columns": null,
            "flex": null,
            "_model_name": "LayoutModel",
            "justify_items": null,
            "grid_row": null,
            "max_height": null,
            "align_content": null,
            "visibility": null,
            "align_self": null,
            "height": null,
            "min_height": null,
            "padding": null,
            "grid_auto_rows": null,
            "grid_gap": null,
            "max_width": null,
            "order": null,
            "_view_module_version": "1.2.0",
            "grid_template_areas": null,
            "object_position": null,
            "object_fit": null,
            "grid_auto_columns": null,
            "margin": null,
            "display": null,
            "left": null
          }
        }
      }
    }
  },
  "cells": [
    {
      "cell_type": "code",
      "execution_count": null,
      "metadata": {
        "id": "7RyrmXksJxV6"
      },
      "outputs": [],
      "source": [
        "import tensorflow as tf\n",
        "import tensorflow_datasets as tfds\n",
        "import os\n",
        "import json\n",
        "import matplotlib.pyplot as plt\n",
        "import numpy as np\n",
        "import string, random\n",
        "import pandas as pd\n",
        "from keras.callbacks import EarlyStopping, ModelCheckpoint\n",
        "\n",
        "prjectName = 'beans'\n",
        "#Function that gets the test data \n",
        "def retrive_data():\n",
        "    test_ds, info = tfds.load(prjectName, split='test', as_supervised=True, with_info=True, shuffle_files=True)\n",
        "    print(info)\n",
        "    # to see labels\n",
        "    print(f'Classes:{info.features[\"label\"].names}')\n",
        "    # show the shape\n",
        "    print(test_ds.element_spec)\n",
        "    return test_ds, info\n",
        "\n",
        "#Function that gets the training and validation data \n",
        "def get_training_data():\n",
        "    validation_data = tfds.load(prjectName, split=f'validation', as_supervised=True)\n",
        "    training_data = tfds.load(prjectName, split=f'train', as_supervised=True)\n",
        "    return training_data, validation_data\n",
        "\n",
        "def wrangle_data_GenPlus(dataset, split, batch_size=32):\n",
        "    wrangled = dataset.map(lambda img, lbl: (tf.cast(img,tf.float32)/255.0,lbl))\n",
        "    if split == 'train':\n",
        "        features = np.array([x[0] for x in wrangled])\n",
        "        lables = np.array([x[1] for x in wrangled])\n",
        "        train_data_gen = tf.keras.preprocessing.image.ImageDataGenerator(\n",
        "            horizontal_flip=True,\n",
        "            zoom_range = 0.2,\n",
        "            rotation_range=20,\n",
        "            fill_mode='nearest'\n",
        "        )\n",
        "        wrangled = train_data_gen.flow(features, lables,batch_size=batch_size)\n",
        "    elif split in ('valid','test' ) : # Caches the elements in this dataset. loat it into the memory to go faster\n",
        "        wrangled = wrangled.cache()\n",
        "        wrangled = wrangled.batch(batch_size)  # Combines consecutive elements of this dataset into batches.\n",
        "        wrangled = wrangled.prefetch(tf.data.AUTOTUNE)\n",
        "    return wrangled\n",
        "\n",
        "def compileModel(model):\n",
        "    model.compile(optimizer=tf.keras.optimizers.Adam(),\n",
        "                  loss=tf.keras.losses.sparse_categorical_crossentropy,\n",
        "                  # classification with integer encoded labels use \"scce\"\n",
        "                  metrics=['accuracy'])\n",
        "    print(model.summary())\n",
        "    return model\n",
        "\n",
        "relu = tf.keras.activations.relu\n",
        "lrelu = lambda x: tf.keras.activations.relu(x, alpha=0.05)\n",
        "\n",
        "\n",
        "def plot_History(history):\n",
        "    pd.DataFrame(history.history).plot(figsize=(8, 5))\n",
        "    plt.grid(True)\n",
        "    plt.gca().set_ylim(0,1)\n",
        "    plt.show()\n",
        "\n",
        "\n",
        "def run_model(model):\n",
        "    # prepare the data\n",
        "    train_ds, valid_ds = get_training_data()\n",
        "    \n",
        "    batch_size = 64\n",
        "    train_data = wrangle_data_GenPlus(train_ds, 'train', batch_size=batch_size)\n",
        "    valid_data = wrangle_data_GenPlus(valid_ds, 'valid', batch_size=batch_size)\n",
        "\n",
        "    # fit the model\n",
        "    earlyStopping = EarlyStopping(monitor='val_loss', patience=5, verbose=0, mode='min')\n",
        "    modelCheckpoint = ModelCheckpoint(\"best.model\", save_best_only=True, monitor='val_loss', mode='min')\n",
        "    history = model.fit(train_data, validation_data=valid_data, epochs=50, callbacks=[earlyStopping, modelCheckpoint])\n",
        "\n",
        "    plot_History(history)\n"
      ]
    },
    {
      "cell_type": "code",
      "source": [
        "# MODEL 1 No image resizing\n",
        "model = tf.keras.Sequential([\n",
        "    tf.keras.layers.InputLayer((500, 500, 3)),\n",
        "    tf.keras.layers.Conv2D(64, 3, activation=relu),\n",
        "    tf.keras.layers.MaxPool2D(),\n",
        "    tf.keras.layers.Conv2D(64, 3, activation=relu),\n",
        "    tf.keras.layers.MaxPool2D(),\n",
        "    tf.keras.layers.Conv2D(128, 3, activation=relu),\n",
        "    tf.keras.layers.MaxPool2D(),\n",
        "    tf.keras.layers.Conv2D(128, 3, activation=relu),\n",
        "    tf.keras.layers.MaxPool2D(),\n",
        "    tf.keras.layers.Conv2D(128, 3, activation=relu),\n",
        "    tf.keras.layers.MaxPool2D(),\n",
        "    tf.keras.layers.Flatten(),\n",
        "    tf.keras.layers.Dense(256, activation=relu),\n",
        "    tf.keras.layers.Dense(128, activation=relu),\n",
        "    tf.keras.layers.Dense(3, activation=tf.keras.activations.softmax)\n",
        "], name='cnn_model')\n",
        "model = compileModel(model)\n",
        "\n",
        "run_model(model)"
      ],
      "metadata": {
        "id": "_QrNXq14e_PX"
      },
      "execution_count": null,
      "outputs": []
    },
    {
      "cell_type": "code",
      "source": [
        "# MODEL 2 Resize to 250x250 instead of 125x125\n",
        "model = tf.keras.Sequential([\n",
        "    tf.keras.layers.InputLayer((500, 500, 3)),\n",
        "    tf.keras.layers.experimental.preprocessing.Resizing(250,250),\n",
        "    tf.keras.layers.Conv2D(64, 3, activation=relu),\n",
        "    tf.keras.layers.MaxPool2D(),\n",
        "    tf.keras.layers.Conv2D(64, 3, activation=relu),\n",
        "    tf.keras.layers.MaxPool2D(),\n",
        "    tf.keras.layers.Conv2D(128, 3, activation=relu),\n",
        "    tf.keras.layers.MaxPool2D(),\n",
        "    tf.keras.layers.Conv2D(128, 3, activation=relu),\n",
        "    tf.keras.layers.MaxPool2D(),\n",
        "    tf.keras.layers.Conv2D(128, 3, activation=relu),\n",
        "    tf.keras.layers.MaxPool2D(),\n",
        "    tf.keras.layers.Flatten(),\n",
        "    tf.keras.layers.Dense(256, activation=relu),\n",
        "    tf.keras.layers.Dense(128, activation=relu),\n",
        "    tf.keras.layers.Dense(3, activation=tf.keras.activations.softmax)\n",
        "], name='cnn_model')\n",
        "model = compileModel(model)\n",
        "\n",
        "run_model(model)"
      ],
      "metadata": {
        "colab": {
          "base_uri": "https://localhost:8080/",
          "height": 1000
        },
        "id": "jc5IDW61Suqu",
        "outputId": "d9819d92-2225-4791-95ec-bd4eae7e6206"
      },
      "execution_count": null,
      "outputs": [
        {
          "metadata": {
            "tags": null
          },
          "name": "stdout",
          "output_type": "stream",
          "text": [
            "Model: \"cnn_model\"\n",
            "_________________________________________________________________\n",
            " Layer (type)                Output Shape              Param #   \n",
            "=================================================================\n",
            " resizing (Resizing)         (None, 250, 250, 3)       0         \n",
            "                                                                 \n",
            " conv2d (Conv2D)             (None, 248, 248, 64)      1792      \n",
            "                                                                 \n",
            " max_pooling2d (MaxPooling2D  (None, 124, 124, 64)     0         \n",
            " )                                                               \n",
            "                                                                 \n",
            " conv2d_1 (Conv2D)           (None, 122, 122, 64)      36928     \n",
            "                                                                 \n",
            " max_pooling2d_1 (MaxPooling  (None, 61, 61, 64)       0         \n",
            " 2D)                                                             \n",
            "                                                                 \n",
            " conv2d_2 (Conv2D)           (None, 59, 59, 128)       73856     \n",
            "                                                                 \n",
            " max_pooling2d_2 (MaxPooling  (None, 29, 29, 128)      0         \n",
            " 2D)                                                             \n",
            "                                                                 \n",
            " conv2d_3 (Conv2D)           (None, 27, 27, 128)       147584    \n",
            "                                                                 \n",
            " max_pooling2d_3 (MaxPooling  (None, 13, 13, 128)      0         \n",
            " 2D)                                                             \n",
            "                                                                 \n",
            " conv2d_4 (Conv2D)           (None, 11, 11, 128)       147584    \n",
            "                                                                 \n",
            " max_pooling2d_4 (MaxPooling  (None, 5, 5, 128)        0         \n",
            " 2D)                                                             \n",
            "                                                                 \n",
            " flatten (Flatten)           (None, 3200)              0         \n",
            "                                                                 \n",
            " dense (Dense)               (None, 256)               819456    \n",
            "                                                                 \n",
            " dense_1 (Dense)             (None, 128)               32896     \n",
            "                                                                 \n",
            " dense_2 (Dense)             (None, 3)                 387       \n",
            "                                                                 \n",
            "=================================================================\n",
            "Total params: 1,260,483\n",
            "Trainable params: 1,260,483\n",
            "Non-trainable params: 0\n",
            "_________________________________________________________________\n",
            "None\n",
            "Epoch 1/70\n",
            "17/17 [==============================] - ETA: 0s - loss: 1.1035 - accuracy: 0.3878INFO:tensorflow:Assets written to: best.model/assets\n"
          ]
        },
        {
          "metadata": {
            "tags": null
          },
          "name": "stderr",
          "output_type": "stream",
          "text": [
            "INFO:tensorflow:Assets written to: best.model/assets\n"
          ]
        },
        {
          "metadata": {
            "tags": null
          },
          "name": "stdout",
          "output_type": "stream",
          "text": [
            "17/17 [==============================] - 62s 3s/step - loss: 1.1035 - accuracy: 0.3878 - val_loss: 1.0609 - val_accuracy: 0.3459\n",
            "Epoch 2/70\n",
            "17/17 [==============================] - ETA: 0s - loss: 0.9792 - accuracy: 0.5087INFO:tensorflow:Assets written to: best.model/assets\n"
          ]
        },
        {
          "metadata": {
            "tags": null
          },
          "name": "stderr",
          "output_type": "stream",
          "text": [
            "INFO:tensorflow:Assets written to: best.model/assets\n"
          ]
        },
        {
          "metadata": {
            "tags": null
          },
          "name": "stdout",
          "output_type": "stream",
          "text": [
            "17/17 [==============================] - 64s 4s/step - loss: 0.9792 - accuracy: 0.5087 - val_loss: 0.8856 - val_accuracy: 0.6241\n",
            "Epoch 3/70\n",
            "17/17 [==============================] - ETA: 0s - loss: 0.8729 - accuracy: 0.6180INFO:tensorflow:Assets written to: best.model/assets\n"
          ]
        },
        {
          "metadata": {
            "tags": null
          },
          "name": "stderr",
          "output_type": "stream",
          "text": [
            "INFO:tensorflow:Assets written to: best.model/assets\n"
          ]
        },
        {
          "metadata": {
            "tags": null
          },
          "name": "stdout",
          "output_type": "stream",
          "text": [
            "17/17 [==============================] - 54s 3s/step - loss: 0.8729 - accuracy: 0.6180 - val_loss: 0.8187 - val_accuracy: 0.5639\n",
            "Epoch 4/70\n",
            "17/17 [==============================] - ETA: 0s - loss: 0.7873 - accuracy: 0.6567INFO:tensorflow:Assets written to: best.model/assets\n"
          ]
        },
        {
          "metadata": {
            "tags": null
          },
          "name": "stderr",
          "output_type": "stream",
          "text": [
            "INFO:tensorflow:Assets written to: best.model/assets\n"
          ]
        },
        {
          "metadata": {
            "tags": null
          },
          "name": "stdout",
          "output_type": "stream",
          "text": [
            "17/17 [==============================] - 52s 3s/step - loss: 0.7873 - accuracy: 0.6567 - val_loss: 0.7443 - val_accuracy: 0.7068\n",
            "Epoch 5/70\n",
            "17/17 [==============================] - 52s 3s/step - loss: 0.8023 - accuracy: 0.6528 - val_loss: 0.7472 - val_accuracy: 0.6391\n",
            "Epoch 6/70\n",
            "17/17 [==============================] - 50s 3s/step - loss: 0.7535 - accuracy: 0.6547 - val_loss: 0.8062 - val_accuracy: 0.6090\n",
            "Epoch 7/70\n",
            "17/17 [==============================] - ETA: 0s - loss: 0.7316 - accuracy: 0.6838INFO:tensorflow:Assets written to: best.model/assets\n"
          ]
        },
        {
          "metadata": {
            "tags": null
          },
          "name": "stderr",
          "output_type": "stream",
          "text": [
            "INFO:tensorflow:Assets written to: best.model/assets\n"
          ]
        },
        {
          "metadata": {
            "tags": null
          },
          "name": "stdout",
          "output_type": "stream",
          "text": [
            "17/17 [==============================] - 52s 3s/step - loss: 0.7316 - accuracy: 0.6838 - val_loss: 0.6336 - val_accuracy: 0.7218\n",
            "Epoch 8/70\n",
            "17/17 [==============================] - 51s 3s/step - loss: 0.6689 - accuracy: 0.7147 - val_loss: 0.6591 - val_accuracy: 0.7143\n",
            "Epoch 9/70\n",
            "17/17 [==============================] - ETA: 0s - loss: 0.6470 - accuracy: 0.7166INFO:tensorflow:Assets written to: best.model/assets\n"
          ]
        },
        {
          "metadata": {
            "tags": null
          },
          "name": "stderr",
          "output_type": "stream",
          "text": [
            "INFO:tensorflow:Assets written to: best.model/assets\n"
          ]
        },
        {
          "metadata": {
            "tags": null
          },
          "name": "stdout",
          "output_type": "stream",
          "text": [
            "17/17 [==============================] - 53s 3s/step - loss: 0.6470 - accuracy: 0.7166 - val_loss: 0.5960 - val_accuracy: 0.7143\n",
            "Epoch 10/70\n",
            "17/17 [==============================] - ETA: 0s - loss: 0.5714 - accuracy: 0.7640INFO:tensorflow:Assets written to: best.model/assets\n"
          ]
        },
        {
          "metadata": {
            "tags": null
          },
          "name": "stderr",
          "output_type": "stream",
          "text": [
            "INFO:tensorflow:Assets written to: best.model/assets\n"
          ]
        },
        {
          "metadata": {
            "tags": null
          },
          "name": "stdout",
          "output_type": "stream",
          "text": [
            "17/17 [==============================] - 52s 3s/step - loss: 0.5714 - accuracy: 0.7640 - val_loss: 0.4875 - val_accuracy: 0.7820\n",
            "Epoch 11/70\n",
            "17/17 [==============================] - ETA: 0s - loss: 0.5007 - accuracy: 0.7998INFO:tensorflow:Assets written to: best.model/assets\n"
          ]
        },
        {
          "metadata": {
            "tags": null
          },
          "name": "stderr",
          "output_type": "stream",
          "text": [
            "INFO:tensorflow:Assets written to: best.model/assets\n"
          ]
        },
        {
          "metadata": {
            "tags": null
          },
          "name": "stdout",
          "output_type": "stream",
          "text": [
            "17/17 [==============================] - 52s 3s/step - loss: 0.5007 - accuracy: 0.7998 - val_loss: 0.4225 - val_accuracy: 0.8271\n",
            "Epoch 12/70\n",
            "17/17 [==============================] - 51s 3s/step - loss: 0.4867 - accuracy: 0.8008 - val_loss: 0.4640 - val_accuracy: 0.8271\n",
            "Epoch 13/70\n",
            "17/17 [==============================] - ETA: 0s - loss: 0.4312 - accuracy: 0.8230INFO:tensorflow:Assets written to: best.model/assets\n"
          ]
        },
        {
          "metadata": {
            "tags": null
          },
          "name": "stderr",
          "output_type": "stream",
          "text": [
            "INFO:tensorflow:Assets written to: best.model/assets\n"
          ]
        },
        {
          "metadata": {
            "tags": null
          },
          "name": "stdout",
          "output_type": "stream",
          "text": [
            "17/17 [==============================] - 53s 3s/step - loss: 0.4312 - accuracy: 0.8230 - val_loss: 0.3847 - val_accuracy: 0.8346\n",
            "Epoch 14/70\n",
            "17/17 [==============================] - 51s 3s/step - loss: 0.4149 - accuracy: 0.8317 - val_loss: 0.3869 - val_accuracy: 0.8571\n",
            "Epoch 15/70\n",
            "17/17 [==============================] - ETA: 0s - loss: 0.4204 - accuracy: 0.8356INFO:tensorflow:Assets written to: best.model/assets\n"
          ]
        },
        {
          "metadata": {
            "tags": null
          },
          "name": "stderr",
          "output_type": "stream",
          "text": [
            "INFO:tensorflow:Assets written to: best.model/assets\n"
          ]
        },
        {
          "metadata": {
            "tags": null
          },
          "name": "stdout",
          "output_type": "stream",
          "text": [
            "17/17 [==============================] - 52s 3s/step - loss: 0.4204 - accuracy: 0.8356 - val_loss: 0.2956 - val_accuracy: 0.8872\n",
            "Epoch 16/70\n",
            "17/17 [==============================] - 51s 3s/step - loss: 0.3641 - accuracy: 0.8627 - val_loss: 0.4211 - val_accuracy: 0.8346\n",
            "Epoch 17/70\n",
            "17/17 [==============================] - 50s 3s/step - loss: 0.3526 - accuracy: 0.8511 - val_loss: 0.3193 - val_accuracy: 0.8571\n",
            "Epoch 18/70\n",
            "17/17 [==============================] - ETA: 0s - loss: 0.3242 - accuracy: 0.8772INFO:tensorflow:Assets written to: best.model/assets\n"
          ]
        },
        {
          "metadata": {
            "tags": null
          },
          "name": "stderr",
          "output_type": "stream",
          "text": [
            "INFO:tensorflow:Assets written to: best.model/assets\n"
          ]
        },
        {
          "metadata": {
            "tags": null
          },
          "name": "stdout",
          "output_type": "stream",
          "text": [
            "17/17 [==============================] - 52s 3s/step - loss: 0.3242 - accuracy: 0.8772 - val_loss: 0.2000 - val_accuracy: 0.9398\n",
            "Epoch 19/70\n",
            "17/17 [==============================] - 51s 3s/step - loss: 0.2929 - accuracy: 0.8772 - val_loss: 0.2820 - val_accuracy: 0.8947\n",
            "Epoch 20/70\n",
            "17/17 [==============================] - ETA: 0s - loss: 0.3315 - accuracy: 0.8617INFO:tensorflow:Assets written to: best.model/assets\n"
          ]
        },
        {
          "metadata": {
            "tags": null
          },
          "name": "stderr",
          "output_type": "stream",
          "text": [
            "INFO:tensorflow:Assets written to: best.model/assets\n"
          ]
        },
        {
          "metadata": {
            "tags": null
          },
          "name": "stdout",
          "output_type": "stream",
          "text": [
            "17/17 [==============================] - 52s 3s/step - loss: 0.3315 - accuracy: 0.8617 - val_loss: 0.1791 - val_accuracy: 0.9474\n",
            "Epoch 21/70\n",
            "17/17 [==============================] - 51s 3s/step - loss: 0.3676 - accuracy: 0.8549 - val_loss: 0.2556 - val_accuracy: 0.8947\n",
            "Epoch 22/70\n",
            "17/17 [==============================] - 50s 3s/step - loss: 0.2935 - accuracy: 0.8810 - val_loss: 0.2381 - val_accuracy: 0.9098\n",
            "Epoch 23/70\n",
            "17/17 [==============================] - 51s 3s/step - loss: 0.2825 - accuracy: 0.8810 - val_loss: 0.1971 - val_accuracy: 0.9699\n",
            "Epoch 24/70\n",
            "17/17 [==============================] - 51s 3s/step - loss: 0.2662 - accuracy: 0.8956 - val_loss: 0.2617 - val_accuracy: 0.9173\n",
            "Epoch 25/70\n",
            "17/17 [==============================] - ETA: 0s - loss: 0.2386 - accuracy: 0.9101INFO:tensorflow:Assets written to: best.model/assets\n"
          ]
        },
        {
          "metadata": {
            "tags": null
          },
          "name": "stderr",
          "output_type": "stream",
          "text": [
            "INFO:tensorflow:Assets written to: best.model/assets\n"
          ]
        },
        {
          "metadata": {
            "tags": null
          },
          "name": "stdout",
          "output_type": "stream",
          "text": [
            "17/17 [==============================] - 52s 3s/step - loss: 0.2386 - accuracy: 0.9101 - val_loss: 0.1772 - val_accuracy: 0.9398\n",
            "Epoch 26/70\n",
            "17/17 [==============================] - 50s 3s/step - loss: 0.2585 - accuracy: 0.9052 - val_loss: 0.2520 - val_accuracy: 0.9248\n",
            "Epoch 27/70\n",
            "17/17 [==============================] - 50s 3s/step - loss: 0.2730 - accuracy: 0.8956 - val_loss: 0.2647 - val_accuracy: 0.9098\n",
            "Epoch 28/70\n",
            "17/17 [==============================] - ETA: 0s - loss: 0.2580 - accuracy: 0.9004INFO:tensorflow:Assets written to: best.model/assets\n"
          ]
        },
        {
          "metadata": {
            "tags": null
          },
          "name": "stderr",
          "output_type": "stream",
          "text": [
            "INFO:tensorflow:Assets written to: best.model/assets\n"
          ]
        },
        {
          "metadata": {
            "tags": null
          },
          "name": "stdout",
          "output_type": "stream",
          "text": [
            "17/17 [==============================] - 52s 3s/step - loss: 0.2580 - accuracy: 0.9004 - val_loss: 0.1535 - val_accuracy: 0.9474\n",
            "Epoch 29/70\n",
            "17/17 [==============================] - 67s 4s/step - loss: 0.2317 - accuracy: 0.9033 - val_loss: 0.1621 - val_accuracy: 0.9248\n",
            "Epoch 30/70\n",
            "17/17 [==============================] - 63s 4s/step - loss: 0.2171 - accuracy: 0.9178 - val_loss: 0.1607 - val_accuracy: 0.9398\n",
            "Epoch 31/70\n",
            "17/17 [==============================] - 55s 3s/step - loss: 0.1994 - accuracy: 0.9304 - val_loss: 0.1920 - val_accuracy: 0.9398\n",
            "Epoch 32/70\n",
            "17/17 [==============================] - ETA: 0s - loss: 0.1589 - accuracy: 0.9362INFO:tensorflow:Assets written to: best.model/assets\n"
          ]
        },
        {
          "metadata": {
            "tags": null
          },
          "name": "stderr",
          "output_type": "stream",
          "text": [
            "INFO:tensorflow:Assets written to: best.model/assets\n"
          ]
        },
        {
          "output_type": "stream",
          "name": "stdout",
          "text": [
            "\b\b\b\b\b\b\b\b\b\b\b\b\b\b\b\b\b\b\b\b\b\b\b\b\b\b\b\b\b\b\b\b\b\b\b\b\b\b\b\b\b\b\b\b\b\b\b\b\b\b\b\b\b\b\b\b\b\b\b\b\b\b\b\b\b\b\b\b\b\b\b\b\b\b\b\b\b\b\b\b\b\b\r17/17 [==============================] - 57s 3s/step - loss: 0.1589 - accuracy: 0.9362 - val_loss: 0.1392 - val_accuracy: 0.9624\n",
            "Epoch 33/70\n",
            "17/17 [==============================] - 50s 3s/step - loss: 0.1645 - accuracy: 0.9420 - val_loss: 0.2417 - val_accuracy: 0.9173\n",
            "Epoch 34/70\n",
            "17/17 [==============================] - 51s 3s/step - loss: 0.2247 - accuracy: 0.9101 - val_loss: 0.1982 - val_accuracy: 0.9474\n",
            "Epoch 35/70\n",
            "17/17 [==============================] - 50s 3s/step - loss: 0.1574 - accuracy: 0.9458 - val_loss: 0.2532 - val_accuracy: 0.9398\n",
            "Epoch 36/70\n",
            "17/17 [==============================] - 51s 3s/step - loss: 0.1730 - accuracy: 0.9226 - val_loss: 0.1843 - val_accuracy: 0.9323\n",
            "Epoch 37/70\n",
            "17/17 [==============================] - 50s 3s/step - loss: 0.1556 - accuracy: 0.9410 - val_loss: 0.2752 - val_accuracy: 0.8872\n"
          ]
        },
        {
          "output_type": "display_data",
          "data": {
            "image/png": "[encoded data removed]",
            "text/plain": [
              "<Figure size 576x360 with 1 Axes>"
            ]
          },
          "metadata": {
            "needs_background": "light"
          }
        },
        {
          "output_type": "error",
          "ename": "NameError",
          "evalue": "ignored",
          "traceback": [
            "\u001b[0;31m---------------------------------------------------------------------------\u001b[0m",
            "\u001b[0;31mNameError\u001b[0m                                 Traceback (most recent call last)",
            "\u001b[0;32m<ipython-input-3-d39b5184e5a3>\u001b[0m in \u001b[0;36m<module>\u001b[0;34m()\u001b[0m\n\u001b[1;32m     20\u001b[0m \u001b[0mmodel\u001b[0m \u001b[0;34m=\u001b[0m \u001b[0mcompileModel\u001b[0m\u001b[0;34m(\u001b[0m\u001b[0mmodel\u001b[0m\u001b[0;34m)\u001b[0m\u001b[0;34m\u001b[0m\u001b[0;34m\u001b[0m\u001b[0m\n\u001b[1;32m     21\u001b[0m \u001b[0;34m\u001b[0m\u001b[0m\n\u001b[0;32m---> 22\u001b[0;31m \u001b[0mrun_model\u001b[0m\u001b[0;34m(\u001b[0m\u001b[0mmodel\u001b[0m\u001b[0;34m)\u001b[0m\u001b[0;34m\u001b[0m\u001b[0;34m\u001b[0m\u001b[0m\n\u001b[0m",
            "\u001b[0;32m<ipython-input-2-cf4a19b1edc2>\u001b[0m in \u001b[0;36mrun_model\u001b[0;34m(model)\u001b[0m\n\u001b[1;32m     77\u001b[0m \u001b[0;34m\u001b[0m\u001b[0m\n\u001b[1;32m     78\u001b[0m     \u001b[0mplot_History\u001b[0m\u001b[0;34m(\u001b[0m\u001b[0mhistory\u001b[0m\u001b[0;34m)\u001b[0m\u001b[0;34m\u001b[0m\u001b[0;34m\u001b[0m\u001b[0m\n\u001b[0;32m---> 79\u001b[0;31m     \u001b[0mprint\u001b[0m\u001b[0;34m(\u001b[0m\u001b[0mmodel\u001b[0m\u001b[0;34m.\u001b[0m\u001b[0mevaluate\u001b[0m\u001b[0;34m(\u001b[0m\u001b[0mtest_data\u001b[0m\u001b[0;34m)\u001b[0m\u001b[0;34m)\u001b[0m\u001b[0;34m\u001b[0m\u001b[0;34m\u001b[0m\u001b[0m\n\u001b[0m\u001b[1;32m     80\u001b[0m \u001b[0;34m\u001b[0m\u001b[0m\n\u001b[1;32m     81\u001b[0m     \u001b[0mplot_History\u001b[0m\u001b[0;34m(\u001b[0m\u001b[0mhistory\u001b[0m\u001b[0;34m)\u001b[0m\u001b[0;34m\u001b[0m\u001b[0;34m\u001b[0m\u001b[0m\n",
            "\u001b[0;31mNameError\u001b[0m: name 'test_data' is not defined"
          ]
        }
      ]
    },
    {
      "cell_type": "code",
      "source": [
        "# MODEL 3 Resize to 250x250 instead of 125x125, and use LReLU with alpha=0.05 instead of ReLU\n",
        "lrelu = lambda x: tf.keras.activations.relu(x, alpha=0.05)\n",
        "\n",
        "model = tf.keras.Sequential([\n",
        "    tf.keras.layers.InputLayer((500, 500, 3)),\n",
        "    tf.keras.layers.experimental.preprocessing.Resizing(250,250),\n",
        "    tf.keras.layers.Conv2D(64, 3, activation=lrelu),\n",
        "    tf.keras.layers.MaxPool2D(),\n",
        "    tf.keras.layers.Conv2D(64, 3, activation=lrelu),\n",
        "    tf.keras.layers.MaxPool2D(),\n",
        "    tf.keras.layers.Conv2D(128, 3, activation=lrelu),\n",
        "    tf.keras.layers.MaxPool2D(),\n",
        "    tf.keras.layers.Conv2D(128, 3, activation=lrelu),\n",
        "    tf.keras.layers.MaxPool2D(),\n",
        "    tf.keras.layers.Conv2D(128, 3, activation=lrelu),\n",
        "    tf.keras.layers.MaxPool2D(),\n",
        "    tf.keras.layers.Flatten(),\n",
        "    tf.keras.layers.Dense(256, activation=lrelu),\n",
        "    tf.keras.layers.Dense(128, activation=lrelu),\n",
        "    tf.keras.layers.Dense(3, activation=tf.keras.activations.softmax)\n",
        "], name='cnn_model')\n",
        "model = compileModel(model)\n",
        "\n",
        "run_model(model)"
      ],
      "metadata": {
        "colab": {
          "base_uri": "https://localhost:8080/",
          "height": 1000
        },
        "id": "6wzzJIneapeZ",
        "outputId": "190dfe30-0bb9-45f0-e30c-2ca0be9de9ff"
      },
      "execution_count": null,
      "outputs": [
        {
          "metadata": {
            "tags": null
          },
          "name": "stdout",
          "output_type": "stream",
          "text": [
            "Model: \"cnn_model\"\n",
            "_________________________________________________________________\n",
            " Layer (type)                Output Shape              Param #   \n",
            "=================================================================\n",
            " resizing (Resizing)         (None, 250, 250, 3)       0         \n",
            "                                                                 \n",
            " conv2d (Conv2D)             (None, 248, 248, 64)      1792      \n",
            "                                                                 \n",
            " max_pooling2d (MaxPooling2D  (None, 124, 124, 64)     0         \n",
            " )                                                               \n",
            "                                                                 \n",
            " conv2d_1 (Conv2D)           (None, 122, 122, 64)      36928     \n",
            "                                                                 \n",
            " max_pooling2d_1 (MaxPooling  (None, 61, 61, 64)       0         \n",
            " 2D)                                                             \n",
            "                                                                 \n",
            " conv2d_2 (Conv2D)           (None, 59, 59, 128)       73856     \n",
            "                                                                 \n",
            " max_pooling2d_2 (MaxPooling  (None, 29, 29, 128)      0         \n",
            " 2D)                                                             \n",
            "                                                                 \n",
            " conv2d_3 (Conv2D)           (None, 27, 27, 128)       147584    \n",
            "                                                                 \n",
            " max_pooling2d_3 (MaxPooling  (None, 13, 13, 128)      0         \n",
            " 2D)                                                             \n",
            "                                                                 \n",
            " conv2d_4 (Conv2D)           (None, 11, 11, 128)       147584    \n",
            "                                                                 \n",
            " max_pooling2d_4 (MaxPooling  (None, 5, 5, 128)        0         \n",
            " 2D)                                                             \n",
            "                                                                 \n",
            " flatten (Flatten)           (None, 3200)              0         \n",
            "                                                                 \n",
            " dense (Dense)               (None, 256)               819456    \n",
            "                                                                 \n",
            " dense_1 (Dense)             (None, 128)               32896     \n",
            "                                                                 \n",
            " dense_2 (Dense)             (None, 3)                 387       \n",
            "                                                                 \n",
            "=================================================================\n",
            "Total params: 1,260,483\n",
            "Trainable params: 1,260,483\n",
            "Non-trainable params: 0\n",
            "_________________________________________________________________\n",
            "None\n",
            "Epoch 1/50\n",
            "17/17 [==============================] - ETA: 0s - loss: 1.1084 - accuracy: 0.3182INFO:tensorflow:Assets written to: best.model/assets\n"
          ]
        },
        {
          "metadata": {
            "tags": null
          },
          "name": "stderr",
          "output_type": "stream",
          "text": [
            "INFO:tensorflow:Assets written to: best.model/assets\n"
          ]
        },
        {
          "metadata": {
            "tags": null
          },
          "name": "stdout",
          "output_type": "stream",
          "text": [
            "17/17 [==============================] - 61s 3s/step - loss: 1.1084 - accuracy: 0.3182 - val_loss: 1.0822 - val_accuracy: 0.4361\n",
            "Epoch 2/50\n",
            "17/17 [==============================] - ETA: 0s - loss: 1.0481 - accuracy: 0.4565INFO:tensorflow:Assets written to: best.model/assets\n"
          ]
        },
        {
          "metadata": {
            "tags": null
          },
          "name": "stderr",
          "output_type": "stream",
          "text": [
            "INFO:tensorflow:Assets written to: best.model/assets\n"
          ]
        },
        {
          "metadata": {
            "tags": null
          },
          "name": "stdout",
          "output_type": "stream",
          "text": [
            "17/17 [==============================] - 52s 3s/step - loss: 1.0481 - accuracy: 0.4565 - val_loss: 0.9772 - val_accuracy: 0.4737\n",
            "Epoch 3/50\n",
            "17/17 [==============================] - ETA: 0s - loss: 0.9005 - accuracy: 0.5909INFO:tensorflow:Assets written to: best.model/assets\n"
          ]
        },
        {
          "metadata": {
            "tags": null
          },
          "name": "stderr",
          "output_type": "stream",
          "text": [
            "INFO:tensorflow:Assets written to: best.model/assets\n"
          ]
        },
        {
          "metadata": {
            "tags": null
          },
          "name": "stdout",
          "output_type": "stream",
          "text": [
            "17/17 [==============================] - 52s 3s/step - loss: 0.9005 - accuracy: 0.5909 - val_loss: 0.8162 - val_accuracy: 0.6767\n",
            "Epoch 4/50\n",
            "17/17 [==============================] - ETA: 0s - loss: 0.9028 - accuracy: 0.5880INFO:tensorflow:Assets written to: best.model/assets\n"
          ]
        },
        {
          "metadata": {
            "tags": null
          },
          "name": "stderr",
          "output_type": "stream",
          "text": [
            "INFO:tensorflow:Assets written to: best.model/assets\n"
          ]
        },
        {
          "metadata": {
            "tags": null
          },
          "name": "stdout",
          "output_type": "stream",
          "text": [
            "17/17 [==============================] - 52s 3s/step - loss: 0.9028 - accuracy: 0.5880 - val_loss: 0.8045 - val_accuracy: 0.6241\n",
            "Epoch 5/50\n",
            "17/17 [==============================] - ETA: 0s - loss: 0.8221 - accuracy: 0.6344INFO:tensorflow:Assets written to: best.model/assets\n"
          ]
        },
        {
          "metadata": {
            "tags": null
          },
          "name": "stderr",
          "output_type": "stream",
          "text": [
            "INFO:tensorflow:Assets written to: best.model/assets\n"
          ]
        },
        {
          "metadata": {
            "tags": null
          },
          "name": "stdout",
          "output_type": "stream",
          "text": [
            "17/17 [==============================] - 52s 3s/step - loss: 0.8221 - accuracy: 0.6344 - val_loss: 0.7885 - val_accuracy: 0.6541\n",
            "Epoch 6/50\n",
            "17/17 [==============================] - ETA: 0s - loss: 0.8098 - accuracy: 0.6412INFO:tensorflow:Assets written to: best.model/assets\n"
          ]
        },
        {
          "metadata": {
            "tags": null
          },
          "name": "stderr",
          "output_type": "stream",
          "text": [
            "INFO:tensorflow:Assets written to: best.model/assets\n"
          ]
        },
        {
          "metadata": {
            "tags": null
          },
          "name": "stdout",
          "output_type": "stream",
          "text": [
            "17/17 [==============================] - 52s 3s/step - loss: 0.8098 - accuracy: 0.6412 - val_loss: 0.7164 - val_accuracy: 0.6992\n",
            "Epoch 7/50\n",
            "17/17 [==============================] - ETA: 0s - loss: 0.7505 - accuracy: 0.6876INFO:tensorflow:Assets written to: best.model/assets\n"
          ]
        },
        {
          "metadata": {
            "tags": null
          },
          "name": "stderr",
          "output_type": "stream",
          "text": [
            "INFO:tensorflow:Assets written to: best.model/assets\n"
          ]
        },
        {
          "metadata": {
            "tags": null
          },
          "name": "stdout",
          "output_type": "stream",
          "text": [
            "17/17 [==============================] - 52s 3s/step - loss: 0.7505 - accuracy: 0.6876 - val_loss: 0.6752 - val_accuracy: 0.7218\n",
            "Epoch 8/50\n",
            "17/17 [==============================] - ETA: 0s - loss: 0.6899 - accuracy: 0.7031INFO:tensorflow:Assets written to: best.model/assets\n"
          ]
        },
        {
          "metadata": {
            "tags": null
          },
          "name": "stderr",
          "output_type": "stream",
          "text": [
            "INFO:tensorflow:Assets written to: best.model/assets\n"
          ]
        },
        {
          "metadata": {
            "tags": null
          },
          "name": "stdout",
          "output_type": "stream",
          "text": [
            "17/17 [==============================] - 51s 3s/step - loss: 0.6899 - accuracy: 0.7031 - val_loss: 0.6727 - val_accuracy: 0.6917\n",
            "Epoch 9/50\n",
            "17/17 [==============================] - ETA: 0s - loss: 0.6142 - accuracy: 0.7466INFO:tensorflow:Assets written to: best.model/assets\n"
          ]
        },
        {
          "metadata": {
            "tags": null
          },
          "name": "stderr",
          "output_type": "stream",
          "text": [
            "INFO:tensorflow:Assets written to: best.model/assets\n"
          ]
        },
        {
          "metadata": {
            "tags": null
          },
          "name": "stdout",
          "output_type": "stream",
          "text": [
            "17/17 [==============================] - 52s 3s/step - loss: 0.6142 - accuracy: 0.7466 - val_loss: 0.5036 - val_accuracy: 0.8346\n",
            "Epoch 10/50\n",
            "17/17 [==============================] - 50s 3s/step - loss: 0.6820 - accuracy: 0.7108 - val_loss: 0.6232 - val_accuracy: 0.6992\n",
            "Epoch 11/50\n",
            "17/17 [==============================] - 50s 3s/step - loss: 0.6205 - accuracy: 0.7205 - val_loss: 0.5480 - val_accuracy: 0.7594\n",
            "Epoch 12/50\n",
            "17/17 [==============================] - 50s 3s/step - loss: 0.5741 - accuracy: 0.7640 - val_loss: 0.5376 - val_accuracy: 0.8120\n",
            "Epoch 13/50\n",
            "17/17 [==============================] - ETA: 0s - loss: 0.5455 - accuracy: 0.7708INFO:tensorflow:Assets written to: best.model/assets\n"
          ]
        },
        {
          "metadata": {
            "tags": null
          },
          "name": "stderr",
          "output_type": "stream",
          "text": [
            "INFO:tensorflow:Assets written to: best.model/assets\n"
          ]
        },
        {
          "metadata": {
            "tags": null
          },
          "name": "stdout",
          "output_type": "stream",
          "text": [
            "17/17 [==============================] - 52s 3s/step - loss: 0.5455 - accuracy: 0.7708 - val_loss: 0.4855 - val_accuracy: 0.8120\n",
            "Epoch 14/50\n",
            "17/17 [==============================] - ETA: 0s - loss: 0.5944 - accuracy: 0.7466INFO:tensorflow:Assets written to: best.model/assets\n"
          ]
        },
        {
          "metadata": {
            "tags": null
          },
          "name": "stderr",
          "output_type": "stream",
          "text": [
            "INFO:tensorflow:Assets written to: best.model/assets\n"
          ]
        },
        {
          "output_type": "stream",
          "name": "stdout",
          "text": [
            "17/17 [==============================] - 52s 3s/step - loss: 0.5944 - accuracy: 0.7466 - val_loss: 0.4470 - val_accuracy: 0.8421\n",
            "Epoch 15/50\n",
            "17/17 [==============================] - ETA: 0s - loss: 0.4913 - accuracy: 0.8008INFO:tensorflow:Assets written to: best.model/assets\n"
          ]
        },
        {
          "output_type": "stream",
          "name": "stderr",
          "text": [
            "INFO:tensorflow:Assets written to: best.model/assets\n"
          ]
        },
        {
          "output_type": "stream",
          "name": "stdout",
          "text": [
            "\b\b\b\b\b\b\b\b\b\b\b\b\b\b\b\b\b\b\b\b\b\b\b\b\b\b\b\b\b\b\b\b\b\b\b\b\b\b\b\b\b\b\b\b\b\b\b\b\b\b\b\b\b\b\b\b\b\b\b\b\b\b\b\b\b\b\b\b\b\b\b\b\b\b\b\b\b\b\b\b\b\b\r17/17 [==============================] - 52s 3s/step - loss: 0.4913 - accuracy: 0.8008 - val_loss: 0.3671 - val_accuracy: 0.8872\n",
            "Epoch 16/50\n",
            "17/17 [==============================] - 50s 3s/step - loss: 0.5182 - accuracy: 0.7921 - val_loss: 0.4188 - val_accuracy: 0.8421\n",
            "Epoch 17/50\n",
            "17/17 [==============================] - 50s 3s/step - loss: 0.5367 - accuracy: 0.7708 - val_loss: 0.4411 - val_accuracy: 0.8195\n",
            "Epoch 18/50\n",
            "17/17 [==============================] - 50s 3s/step - loss: 0.4040 - accuracy: 0.8356 - val_loss: 0.4048 - val_accuracy: 0.8346\n",
            "Epoch 19/50\n",
            "17/17 [==============================] - 50s 3s/step - loss: 0.3842 - accuracy: 0.8356 - val_loss: 0.4215 - val_accuracy: 0.7820\n",
            "Epoch 20/50\n",
            "17/17 [==============================] - 50s 3s/step - loss: 0.3773 - accuracy: 0.8424 - val_loss: 0.4189 - val_accuracy: 0.7669\n"
          ]
        },
        {
          "output_type": "display_data",
          "data": {
            "image/png": "[encoded data removed]",
            "text/plain": [
              "<Figure size 576x360 with 1 Axes>"
            ]
          },
          "metadata": {
            "needs_background": "light"
          }
        }
      ]
    },
    {
      "cell_type": "code",
      "source": [
        "# MODEL 4 Resize to 250x250 instead of 125x125, and use LReLU with alpha=0.1 instead of ReLU\n",
        "\n",
        "lrelu = lambda x: tf.keras.activations.relu(x, alpha=0.1)\n",
        "\n",
        "model = tf.keras.Sequential([\n",
        "    tf.keras.layers.InputLayer((500, 500, 3)),\n",
        "    tf.keras.layers.experimental.preprocessing.Resizing(250,250),\n",
        "    tf.keras.layers.Conv2D(64, 3, activation=relu),\n",
        "    tf.keras.layers.MaxPool2D(),\n",
        "    tf.keras.layers.Conv2D(64, 3, activation=relu),\n",
        "    tf.keras.layers.MaxPool2D(),\n",
        "    tf.keras.layers.Conv2D(128, 3, activation=relu),\n",
        "    tf.keras.layers.MaxPool2D(),\n",
        "    tf.keras.layers.Conv2D(128, 3, activation=relu),\n",
        "    tf.keras.layers.MaxPool2D(),\n",
        "    tf.keras.layers.Conv2D(128, 3, activation=relu),\n",
        "    tf.keras.layers.MaxPool2D(),\n",
        "    tf.keras.layers.Flatten(),\n",
        "    tf.keras.layers.Dense(256, activation=relu),\n",
        "    tf.keras.layers.Dense(128, activation=relu),\n",
        "    tf.keras.layers.Dense(3, activation=tf.keras.activations.softmax)\n",
        "], name='cnn_model')\n",
        "model = compileModel(model)\n",
        "\n",
        "run_model(model)"
      ],
      "metadata": {
        "id": "5w6Wp0Qtb0_N",
        "colab": {
          "base_uri": "https://localhost:8080/",
          "height": 1000,
          "referenced_widgets": [
            "b51778bee1e0473b90c7ece2f209ea2c",
            "ebd0befe37844c20b341e430c730ab33",
            "ca025ff5f0844542a36bb3dbf31a9b03",
            "982aa0b49324432cb17660d008c8db94",
            "60c3bce584194902a11e746638302d81",
            "6a450840942f49fd850da400b0321c3a",
            "df80231a7f9c41c5bd58f74fb7892322",
            "824b1c63d1f04533be79ccc3159daa50",
            "5aabb7e61a414555a2155f6b064ce27d",
            "9fd482a87e3441e6afd81be12f0a3160",
            "9cfce8acead34a41949d06ddb96011b0",
            "2e504aa51ced4f5989c6b4ab69229d0b",
            "0a90b5d3ebd84a469b36bc0d1de95fa8",
            "de402e26076b4727b6b73f41df50c4ac",
            "a18727abe63e4a3bb9927cac7c45eb42",
            "3879c20961b44825931abb3b41d23350",
            "ae694a86f04841a0a1c827afe98f1bb5",
            "3fbb913e63d04f958f1924d8959dc75b",
            "72e19565dc75411d946019ac6ff1d86f",
            "ae400ed5086c4bd6979a660817daaf8c",
            "0d8f61d791384bc0a3509bfa7686a253",
            "49b592049c0e4eb9bad04bd79fbd4223",
            "3b46ce5497074f01bc005c47a654a02b",
            "db07f02e3e6c4d98b56361c3f7d77797",
            "6647ecaabd3b497b8e15f5188ac44606",
            "1d3be651ae984b7184b597005516065b",
            "f83cb1fb68ae47eca87ece2937dc6801",
            "62b9c4f952f944d5849ff86eb0409eec",
            "d7adfca7643d44e6a46c20771c8403b6",
            "ad2302cc1ace406e88b7e653fbb7ad6a",
            "f409ed4f9a154a119fcd47dfdc2c223e",
            "1060a31195304d51b56f547e6fbfb097",
            "942b7f4a2daf4570b895d611d39360a2",
            "b2cbb43d5fd744bbb6b2062121f15055",
            "74b383f905c54a9f83ca24fee72b2b7e",
            "ca1197df91f14387a8a5d55c705f6c7d",
            "3245c84e9e3a4fd0aa76267b08075ce9",
            "227f0596ec46455090a9ac20a29abb06",
            "72fa747e7d734f0bb829605023887372",
            "2d2a4048c2f14ac5ac33a3ef7e50796a",
            "33f9675e47e7468f8104eca0815f2a3a",
            "cbb8b83a85b34ba3ba18148e08425490",
            "b111675739b34eb88fac5d953dad7f65",
            "dd8b0c8fbeb141ac82cad3903ba0380d",
            "4d775b41bd7a494eaa57c98efce2cdc2",
            "776ec7bab11a45b9976b21a58d1bece2",
            "1f27ceda918148b29860e6d2bd55c2d7",
            "457b01725f7b436ea1e8e62b8d15a633",
            "602606f340b4451c80f5a8a04d570b8a",
            "4a9dd696df854787901a4c53784d3f10",
            "175070c8ad934f0dbee7a7ba102dc2d3",
            "2c1f572319b7405e8b0e1c9c5622f0ed",
            "43697993c1444948a0a8013e4c93a6a0",
            "9444cb041aeb4642bb511b1d858ccc99",
            "4d6ae4676b554942912b61057a2333e4",
            "b2e31b305b89440b99846d27fb5910e7",
            "d638f8d5c30046f48908be0a2956f99f",
            "b507644ac3f14022847b8c92e716415a",
            "b2f6e665f3984a83a133e5d7789023b1",
            "4ab1dea7d66b44a79b08dae4cb472d1b",
            "dc1fffb625b94dd38a605781b5348401",
            "cd2f72f2d9174ba4aa9bbb2947b48927",
            "d322196f4b2e463880094dccfad35dbe",
            "87a51fd28b1f4ac3ad13ae94e34adb82",
            "08e8fe4f2c9d4d79a1ce77e1e78d63ef",
            "75e1e52f4b114ffcb6386d0ae22abede",
            "e8bcfa2a0a5344dc85c9519ef495aca1",
            "152eddfdd9a541328086dc0119f3ea7f",
            "000e306a2f4f4731a6ab14fd95bd2f3a",
            "4d04fea7c4aa4ef6b0d2a89f6861e77d",
            "6164d1bf6d1f40e5b60fd2614c93d6f7",
            "67d8ca1dea894d53a22178cae69b38ce",
            "07cc29076cdd4a89ac55529016c95f4a",
            "e3522c12c18241d79037662c3152c612",
            "87f30dfe51484a76beb0688936cd0c2e",
            "19b52eefdfb04caf8ae6fee62beee7f7",
            "6319dbf03b7043eb902fb54d9e002bd0",
            "265de1fed0b64276928a891466954223",
            "84bb91ca909447afb2112725aac993e3",
            "9e516a6dee9545079226e99545f61c13",
            "26bca99aba904502b128605cdc755e37",
            "9604481d12974cb18aa609122b78e8d5",
            "2dc2ff8de6984b768ec2ad5e34d48f46",
            "a503d65885eb4323886391cba6ebf8cb",
            "9c20fa39932e4f9f8804d0c42905049e",
            "fb083805528f493fac87804f7c4697e1",
            "59ba7a1cd3414f11a94c1a9621c62df3",
            "4cd4b343ccdf4679b13c6ca660de89fc"
          ]
        },
        "outputId": "cb6ef2d7-167a-45aa-e820-d3594ea7ddbd"
      },
      "execution_count": null,
      "outputs": [
        {
          "output_type": "stream",
          "name": "stdout",
          "text": [
            "Model: \"cnn_model\"\n",
            "_________________________________________________________________\n",
            " Layer (type)                Output Shape              Param #   \n",
            "=================================================================\n",
            " resizing (Resizing)         (None, 250, 250, 3)       0         \n",
            "                                                                 \n",
            " conv2d (Conv2D)             (None, 248, 248, 64)      1792      \n",
            "                                                                 \n",
            " max_pooling2d (MaxPooling2D  (None, 124, 124, 64)     0         \n",
            " )                                                               \n",
            "                                                                 \n",
            " conv2d_1 (Conv2D)           (None, 122, 122, 64)      36928     \n",
            "                                                                 \n",
            " max_pooling2d_1 (MaxPooling  (None, 61, 61, 64)       0         \n",
            " 2D)                                                             \n",
            "                                                                 \n",
            " conv2d_2 (Conv2D)           (None, 59, 59, 128)       73856     \n",
            "                                                                 \n",
            " max_pooling2d_2 (MaxPooling  (None, 29, 29, 128)      0         \n",
            " 2D)                                                             \n",
            "                                                                 \n",
            " conv2d_3 (Conv2D)           (None, 27, 27, 128)       147584    \n",
            "                                                                 \n",
            " max_pooling2d_3 (MaxPooling  (None, 13, 13, 128)      0         \n",
            " 2D)                                                             \n",
            "                                                                 \n",
            " conv2d_4 (Conv2D)           (None, 11, 11, 128)       147584    \n",
            "                                                                 \n",
            " max_pooling2d_4 (MaxPooling  (None, 5, 5, 128)        0         \n",
            " 2D)                                                             \n",
            "                                                                 \n",
            " flatten (Flatten)           (None, 3200)              0         \n",
            "                                                                 \n",
            " dense (Dense)               (None, 256)               819456    \n",
            "                                                                 \n",
            " dense_1 (Dense)             (None, 128)               32896     \n",
            "                                                                 \n",
            " dense_2 (Dense)             (None, 3)                 387       \n",
            "                                                                 \n",
            "=================================================================\n",
            "Total params: 1,260,483\n",
            "Trainable params: 1,260,483\n",
            "Non-trainable params: 0\n",
            "_________________________________________________________________\n",
            "None\n",
            "\u001b[1mDownloading and preparing dataset beans/0.1.0 (download: Unknown size, generated: 171.63 MiB, total: 171.63 MiB) to /root/tensorflow_datasets/beans/0.1.0...\u001b[0m\n"
          ]
        },
        {
          "output_type": "display_data",
          "data": {
            "application/vnd.jupyter.widget-view+json": {
              "model_id": "b51778bee1e0473b90c7ece2f209ea2c",
              "version_minor": 0,
              "version_major": 2
            },
            "text/plain": [
              "Dl Completed...: 0 url [00:00, ? url/s]"
            ]
          },
          "metadata": {}
        },
        {
          "output_type": "display_data",
          "data": {
            "application/vnd.jupyter.widget-view+json": {
              "model_id": "2e504aa51ced4f5989c6b4ab69229d0b",
              "version_minor": 0,
              "version_major": 2
            },
            "text/plain": [
              "Dl Size...: 0 MiB [00:00, ? MiB/s]"
            ]
          },
          "metadata": {}
        },
        {
          "output_type": "stream",
          "name": "stdout",
          "text": [
            "\n",
            "\n"
          ]
        },
        {
          "output_type": "display_data",
          "data": {
            "application/vnd.jupyter.widget-view+json": {
              "model_id": "3b46ce5497074f01bc005c47a654a02b",
              "version_minor": 0,
              "version_major": 2
            },
            "text/plain": [
              "0 examples [00:00, ? examples/s]"
            ]
          },
          "metadata": {}
        },
        {
          "output_type": "stream",
          "name": "stdout",
          "text": [
            "Shuffling and writing examples to /root/tensorflow_datasets/beans/0.1.0.incompleteQQ1H0Q/beans-train.tfrecord\n"
          ]
        },
        {
          "output_type": "display_data",
          "data": {
            "application/vnd.jupyter.widget-view+json": {
              "model_id": "b2cbb43d5fd744bbb6b2062121f15055",
              "version_minor": 0,
              "version_major": 2
            },
            "text/plain": [
              "  0%|          | 0/1034 [00:00<?, ? examples/s]"
            ]
          },
          "metadata": {}
        },
        {
          "output_type": "display_data",
          "data": {
            "application/vnd.jupyter.widget-view+json": {
              "model_id": "4d775b41bd7a494eaa57c98efce2cdc2",
              "version_minor": 0,
              "version_major": 2
            },
            "text/plain": [
              "0 examples [00:00, ? examples/s]"
            ]
          },
          "metadata": {}
        },
        {
          "output_type": "stream",
          "name": "stdout",
          "text": [
            "Shuffling and writing examples to /root/tensorflow_datasets/beans/0.1.0.incompleteQQ1H0Q/beans-validation.tfrecord\n"
          ]
        },
        {
          "output_type": "display_data",
          "data": {
            "application/vnd.jupyter.widget-view+json": {
              "model_id": "b2e31b305b89440b99846d27fb5910e7",
              "version_minor": 0,
              "version_major": 2
            },
            "text/plain": [
              "  0%|          | 0/133 [00:00<?, ? examples/s]"
            ]
          },
          "metadata": {}
        },
        {
          "output_type": "display_data",
          "data": {
            "application/vnd.jupyter.widget-view+json": {
              "model_id": "e8bcfa2a0a5344dc85c9519ef495aca1",
              "version_minor": 0,
              "version_major": 2
            },
            "text/plain": [
              "0 examples [00:00, ? examples/s]"
            ]
          },
          "metadata": {}
        },
        {
          "output_type": "stream",
          "name": "stdout",
          "text": [
            "Shuffling and writing examples to /root/tensorflow_datasets/beans/0.1.0.incompleteQQ1H0Q/beans-test.tfrecord\n"
          ]
        },
        {
          "output_type": "display_data",
          "data": {
            "application/vnd.jupyter.widget-view+json": {
              "model_id": "265de1fed0b64276928a891466954223",
              "version_minor": 0,
              "version_major": 2
            },
            "text/plain": [
              "  0%|          | 0/128 [00:00<?, ? examples/s]"
            ]
          },
          "metadata": {}
        },
        {
          "output_type": "stream",
          "name": "stdout",
          "text": [
            "\u001b[1mDataset beans downloaded and prepared to /root/tensorflow_datasets/beans/0.1.0. Subsequent calls will reuse this data.\u001b[0m\n",
            "Epoch 1/50\n",
            "17/17 [==============================] - ETA: 0s - loss: 1.0929 - accuracy: 0.3627INFO:tensorflow:Assets written to: best.model/assets\n"
          ]
        },
        {
          "output_type": "stream",
          "name": "stderr",
          "text": [
            "INFO:tensorflow:Assets written to: best.model/assets\n"
          ]
        },
        {
          "output_type": "stream",
          "name": "stdout",
          "text": [
            "\b\b\b\b\b\b\b\b\b\b\b\b\b\b\b\b\b\b\b\b\b\b\b\b\b\b\b\b\b\b\b\b\b\b\b\b\b\b\b\b\b\b\b\b\b\b\b\b\b\b\b\b\b\b\b\b\b\b\b\b\b\b\b\b\b\b\b\b\b\b\b\b\b\b\b\b\b\b\b\b\b\b\r17/17 [==============================] - 61s 3s/step - loss: 1.0929 - accuracy: 0.3627 - val_loss: 1.0476 - val_accuracy: 0.4060\n",
            "Epoch 2/50\n",
            "17/17 [==============================] - ETA: 0s - loss: 0.9397 - accuracy: 0.5426INFO:tensorflow:Assets written to: best.model/assets\n"
          ]
        },
        {
          "output_type": "stream",
          "name": "stderr",
          "text": [
            "INFO:tensorflow:Assets written to: best.model/assets\n"
          ]
        },
        {
          "output_type": "stream",
          "name": "stdout",
          "text": [
            "\b\b\b\b\b\b\b\b\b\b\b\b\b\b\b\b\b\b\b\b\b\b\b\b\b\b\b\b\b\b\b\b\b\b\b\b\b\b\b\b\b\b\b\b\b\b\b\b\b\b\b\b\b\b\b\b\b\b\b\b\b\b\b\b\b\b\b\b\b\b\b\b\b\b\b\b\b\b\b\b\b\b\r17/17 [==============================] - 49s 3s/step - loss: 0.9397 - accuracy: 0.5426 - val_loss: 0.8258 - val_accuracy: 0.6090\n",
            "Epoch 3/50\n",
            "17/17 [==============================] - ETA: 0s - loss: 0.8622 - accuracy: 0.5870INFO:tensorflow:Assets written to: best.model/assets\n"
          ]
        },
        {
          "output_type": "stream",
          "name": "stderr",
          "text": [
            "INFO:tensorflow:Assets written to: best.model/assets\n"
          ]
        },
        {
          "output_type": "stream",
          "name": "stdout",
          "text": [
            "\b\b\b\b\b\b\b\b\b\b\b\b\b\b\b\b\b\b\b\b\b\b\b\b\b\b\b\b\b\b\b\b\b\b\b\b\b\b\b\b\b\b\b\b\b\b\b\b\b\b\b\b\b\b\b\b\b\b\b\b\b\b\b\b\b\b\b\b\b\b\b\b\b\b\b\b\b\b\b\b\b\b\r17/17 [==============================] - 48s 3s/step - loss: 0.8622 - accuracy: 0.5870 - val_loss: 0.7920 - val_accuracy: 0.5940\n",
            "Epoch 4/50\n",
            "17/17 [==============================] - 47s 3s/step - loss: 0.8531 - accuracy: 0.5832 - val_loss: 0.9410 - val_accuracy: 0.5789\n",
            "Epoch 5/50\n",
            "17/17 [==============================] - ETA: 0s - loss: 0.8801 - accuracy: 0.5967INFO:tensorflow:Assets written to: best.model/assets\n"
          ]
        },
        {
          "output_type": "stream",
          "name": "stderr",
          "text": [
            "INFO:tensorflow:Assets written to: best.model/assets\n"
          ]
        },
        {
          "output_type": "stream",
          "name": "stdout",
          "text": [
            "\b\b\b\b\b\b\b\b\b\b\b\b\b\b\b\b\b\b\b\b\b\b\b\b\b\b\b\b\b\b\b\b\b\b\b\b\b\b\b\b\b\b\b\b\b\b\b\b\b\b\b\b\b\b\b\b\b\b\b\b\b\b\b\b\b\b\b\b\b\b\b\b\b\b\b\b\b\b\b\b\b\b\r17/17 [==============================] - 48s 3s/step - loss: 0.8801 - accuracy: 0.5967 - val_loss: 0.7743 - val_accuracy: 0.6165\n",
            "Epoch 6/50\n",
            "17/17 [==============================] - ETA: 0s - loss: 0.7585 - accuracy: 0.6489INFO:tensorflow:Assets written to: best.model/assets\n"
          ]
        },
        {
          "output_type": "stream",
          "name": "stderr",
          "text": [
            "INFO:tensorflow:Assets written to: best.model/assets\n"
          ]
        },
        {
          "output_type": "stream",
          "name": "stdout",
          "text": [
            "\b\b\b\b\b\b\b\b\b\b\b\b\b\b\b\b\b\b\b\b\b\b\b\b\b\b\b\b\b\b\b\b\b\b\b\b\b\b\b\b\b\b\b\b\b\b\b\b\b\b\b\b\b\b\b\b\b\b\b\b\b\b\b\b\b\b\b\b\b\b\b\b\b\b\b\b\b\b\b\b\b\b\r17/17 [==============================] - 48s 3s/step - loss: 0.7585 - accuracy: 0.6489 - val_loss: 0.6805 - val_accuracy: 0.7068\n",
            "Epoch 7/50\n",
            "17/17 [==============================] - ETA: 0s - loss: 0.7042 - accuracy: 0.7070INFO:tensorflow:Assets written to: best.model/assets\n"
          ]
        },
        {
          "output_type": "stream",
          "name": "stderr",
          "text": [
            "INFO:tensorflow:Assets written to: best.model/assets\n"
          ]
        },
        {
          "output_type": "stream",
          "name": "stdout",
          "text": [
            "\b\b\b\b\b\b\b\b\b\b\b\b\b\b\b\b\b\b\b\b\b\b\b\b\b\b\b\b\b\b\b\b\b\b\b\b\b\b\b\b\b\b\b\b\b\b\b\b\b\b\b\b\b\b\b\b\b\b\b\b\b\b\b\b\b\b\b\b\b\b\b\b\b\b\b\b\b\b\b\b\b\b\r17/17 [==============================] - 48s 3s/step - loss: 0.7042 - accuracy: 0.7070 - val_loss: 0.5943 - val_accuracy: 0.7519\n",
            "Epoch 8/50\n",
            "17/17 [==============================] - ETA: 0s - loss: 0.7005 - accuracy: 0.6847INFO:tensorflow:Assets written to: best.model/assets\n"
          ]
        },
        {
          "output_type": "stream",
          "name": "stderr",
          "text": [
            "INFO:tensorflow:Assets written to: best.model/assets\n"
          ]
        },
        {
          "output_type": "stream",
          "name": "stdout",
          "text": [
            "\b\b\b\b\b\b\b\b\b\b\b\b\b\b\b\b\b\b\b\b\b\b\b\b\b\b\b\b\b\b\b\b\b\b\b\b\b\b\b\b\b\b\b\b\b\b\b\b\b\b\b\b\b\b\b\b\b\b\b\b\b\b\b\b\b\b\b\b\b\b\b\b\b\b\b\b\b\b\b\b\b\b\r17/17 [==============================] - 48s 3s/step - loss: 0.7005 - accuracy: 0.6847 - val_loss: 0.5469 - val_accuracy: 0.7820\n",
            "Epoch 9/50\n",
            "17/17 [==============================] - ETA: 0s - loss: 0.6227 - accuracy: 0.7186INFO:tensorflow:Assets written to: best.model/assets\n"
          ]
        },
        {
          "output_type": "stream",
          "name": "stderr",
          "text": [
            "INFO:tensorflow:Assets written to: best.model/assets\n"
          ]
        },
        {
          "output_type": "stream",
          "name": "stdout",
          "text": [
            "\b\b\b\b\b\b\b\b\b\b\b\b\b\b\b\b\b\b\b\b\b\b\b\b\b\b\b\b\b\b\b\b\b\b\b\b\b\b\b\b\b\b\b\b\b\b\b\b\b\b\b\b\b\b\b\b\b\b\b\b\b\b\b\b\b\b\b\b\b\b\b\b\b\b\b\b\b\b\b\b\b\b\r17/17 [==============================] - 49s 3s/step - loss: 0.6227 - accuracy: 0.7186 - val_loss: 0.4923 - val_accuracy: 0.7970\n",
            "Epoch 10/50\n",
            "17/17 [==============================] - 48s 3s/step - loss: 0.6032 - accuracy: 0.7360 - val_loss: 0.5636 - val_accuracy: 0.7970\n",
            "Epoch 11/50\n",
            "17/17 [==============================] - ETA: 0s - loss: 0.5223 - accuracy: 0.7882INFO:tensorflow:Assets written to: best.model/assets\n"
          ]
        },
        {
          "output_type": "stream",
          "name": "stderr",
          "text": [
            "INFO:tensorflow:Assets written to: best.model/assets\n"
          ]
        },
        {
          "output_type": "stream",
          "name": "stdout",
          "text": [
            "\b\b\b\b\b\b\b\b\b\b\b\b\b\b\b\b\b\b\b\b\b\b\b\b\b\b\b\b\b\b\b\b\b\b\b\b\b\b\b\b\b\b\b\b\b\b\b\b\b\b\b\b\b\b\b\b\b\b\b\b\b\b\b\b\b\b\b\b\b\b\b\b\b\b\b\b\b\b\b\b\b\b\r17/17 [==============================] - 52s 3s/step - loss: 0.5223 - accuracy: 0.7882 - val_loss: 0.4253 - val_accuracy: 0.8346\n",
            "Epoch 12/50\n",
            "17/17 [==============================] - 56s 3s/step - loss: 0.5017 - accuracy: 0.7776 - val_loss: 0.4538 - val_accuracy: 0.8271\n",
            "Epoch 13/50\n",
            "17/17 [==============================] - 49s 3s/step - loss: 0.4984 - accuracy: 0.7863 - val_loss: 0.4494 - val_accuracy: 0.8346\n",
            "Epoch 14/50\n",
            "17/17 [==============================] - ETA: 0s - loss: 0.4256 - accuracy: 0.8288INFO:tensorflow:Assets written to: best.model/assets\n"
          ]
        },
        {
          "output_type": "stream",
          "name": "stderr",
          "text": [
            "INFO:tensorflow:Assets written to: best.model/assets\n"
          ]
        },
        {
          "output_type": "stream",
          "name": "stdout",
          "text": [
            "\b\b\b\b\b\b\b\b\b\b\b\b\b\b\b\b\b\b\b\b\b\b\b\b\b\b\b\b\b\b\b\b\b\b\b\b\b\b\b\b\b\b\b\b\b\b\b\b\b\b\b\b\b\b\b\b\b\b\b\b\b\b\b\b\b\b\b\b\b\b\b\b\b\b\b\b\b\b\b\b\b\b\r17/17 [==============================] - 49s 3s/step - loss: 0.4256 - accuracy: 0.8288 - val_loss: 0.2991 - val_accuracy: 0.8947\n",
            "Epoch 15/50\n",
            "17/17 [==============================] - ETA: 0s - loss: 0.3717 - accuracy: 0.8511INFO:tensorflow:Assets written to: best.model/assets\n"
          ]
        },
        {
          "output_type": "stream",
          "name": "stderr",
          "text": [
            "INFO:tensorflow:Assets written to: best.model/assets\n"
          ]
        },
        {
          "output_type": "stream",
          "name": "stdout",
          "text": [
            "\b\b\b\b\b\b\b\b\b\b\b\b\b\b\b\b\b\b\b\b\b\b\b\b\b\b\b\b\b\b\b\b\b\b\b\b\b\b\b\b\b\b\b\b\b\b\b\b\b\b\b\b\b\b\b\b\b\b\b\b\b\b\b\b\b\b\b\b\b\b\b\b\b\b\b\b\b\b\b\b\b\b\r17/17 [==============================] - 48s 3s/step - loss: 0.3717 - accuracy: 0.8511 - val_loss: 0.2421 - val_accuracy: 0.9098\n",
            "Epoch 16/50\n",
            "17/17 [==============================] - 48s 3s/step - loss: 0.3387 - accuracy: 0.8685 - val_loss: 0.3853 - val_accuracy: 0.8647\n",
            "Epoch 17/50\n",
            "17/17 [==============================] - 47s 3s/step - loss: 0.3607 - accuracy: 0.8569 - val_loss: 0.2910 - val_accuracy: 0.8872\n",
            "Epoch 18/50\n",
            "17/17 [==============================] - 47s 3s/step - loss: 0.3262 - accuracy: 0.8665 - val_loss: 0.3051 - val_accuracy: 0.8797\n",
            "Epoch 19/50\n",
            "17/17 [==============================] - 47s 3s/step - loss: 0.3218 - accuracy: 0.8646 - val_loss: 0.2598 - val_accuracy: 0.9098\n",
            "Epoch 20/50\n",
            "17/17 [==============================] - 47s 3s/step - loss: 0.2721 - accuracy: 0.8907 - val_loss: 0.3694 - val_accuracy: 0.9023\n"
          ]
        },
        {
          "output_type": "display_data",
          "data": {
            "image/png": "[encoded data removed]",
            "text/plain": [
              "<Figure size 576x360 with 1 Axes>"
            ]
          },
          "metadata": {
            "needs_background": "light"
          }
        }
      ]
    },
    {
      "cell_type": "markdown",
      "source": [
        "Uploadind a new bean leaf photo on the 4 model"
      ],
      "metadata": {
        "id": "hWk41neuNeZo"
      }
    },
    {
      "cell_type": "code",
      "source": [
        "!pip install -Uq fastai\n",
        "\n",
        "!pip install Pillow\n",
        "import fastai\n",
        "from fastai.vision import *\n",
        "\n",
        "from fastai.vision.widgets import FileUpload, Output, Label\n",
        "\n",
        "from PIL import Image\n",
        "\n",
        "btn_upload = FileUpload()\n",
        "btn_upload"
      ],
      "metadata": {
        "id": "-zO9Sau8UpaM",
        "colab": {
          "base_uri": "https://localhost:8080/",
          "height": 66,
          "referenced_widgets": [
            "d497a726f6c548d782a21f52f0c891c3",
            "8d40a4e7374e4273be3491e75d8969b8",
            "de621fcd6b8e4d669c0c770982960d62"
          ]
        },
        "outputId": "b41c80d9-454c-403b-d54a-811c0866d92f"
      },
      "execution_count": null,
      "outputs": [
        {
          "output_type": "stream",
          "name": "stdout",
          "text": [
            "Requirement already satisfied: Pillow in /usr/local/lib/python3.7/dist-packages (7.1.2)\n"
          ]
        },
        {
          "output_type": "display_data",
          "data": {
            "application/vnd.jupyter.widget-view+json": {
              "model_id": "d497a726f6c548d782a21f52f0c891c3",
              "version_minor": 0,
              "version_major": 2
            },
            "text/plain": [
              "FileUpload(value={}, description='Upload')"
            ]
          },
          "metadata": {}
        }
      ]
    },
    {
      "cell_type": "markdown",
      "source": [
        "Displaying the photo"
      ],
      "metadata": {
        "id": "nr47CDRGOBLU"
      }
    },
    {
      "cell_type": "code",
      "source": [
        "import io\n",
        "\n",
        "img = Image.open(io.BytesIO(btn_upload.data[-1]))\n",
        "out_pl = Output()\n",
        "out_pl.clear_output()\n",
        "with out_pl:display(img.to_thumb(128, 128))\n",
        "out_pl"
      ],
      "metadata": {
        "id": "uxb5hjk_kYLE",
        "colab": {
          "base_uri": "https://localhost:8080/",
          "height": 145,
          "referenced_widgets": [
            "fd7a09cccd054b8382ac750017809a10",
            "ed35a0075e784e5b9347ab64f851ed10"
          ]
        },
        "outputId": "61e3dfee-a747-4c24-fa0c-8c6f42293cc1"
      },
      "execution_count": null,
      "outputs": [
        {
          "output_type": "display_data",
          "data": {
            "application/vnd.jupyter.widget-view+json": {
              "model_id": "fd7a09cccd054b8382ac750017809a10",
              "version_minor": 0,
              "version_major": 2
            },
            "text/plain": [
              "Output()"
            ]
          },
          "metadata": {}
        }
      ]
    },
    {
      "cell_type": "markdown",
      "source": [
        "Predicting the label of the photo"
      ],
      "metadata": {
        "id": "dq45QokPOHti"
      }
    },
    {
      "cell_type": "code",
      "source": [
        "from keras.preprocessing import image\n",
        "\n",
        "img_tensor = image.img_to_array(img)\n",
        "img_tensor = np.expand_dims(img_tensor, axis=0)\n",
        "img_tensor /= 255.\n",
        "\n",
        "y_probs = model.predict(img_tensor)[0]\n",
        "y_class_idx = int(y_probs.argmax(axis=-1))\n",
        "\n",
        "labels = [\"Angular Leaf Spot\", \"Bean Rust\", \"Healty\"]\n",
        "\n",
        "btn_upload.data.clear()\n",
        "\n",
        "lbl_pred = Label()\n",
        "lbl_pred.value = f'Prediction: {labels[y_class_idx]}. Probabilties: {y_probs}'\n",
        "lbl_pred\n",
        "\n"
      ],
      "metadata": {
        "id": "UXNwo4STjkxY",
        "outputId": "da5f37dd-17ff-4734-e836-2c9591972e76",
        "colab": {
          "base_uri": "https://localhost:8080/",
          "height": 49,
          "referenced_widgets": [
            "cc5dac8db24e49f7874e2bc10e269106",
            "a2b8e367e3bc4e7191e6cb95c777cdb5",
            "ef68b54d7595478ca02228f9f37cf085"
          ]
        }
      },
      "execution_count": null,
      "outputs": [
        {
          "output_type": "display_data",
          "data": {
            "application/vnd.jupyter.widget-view+json": {
              "model_id": "cc5dac8db24e49f7874e2bc10e269106",
              "version_minor": 0,
              "version_major": 2
            },
            "text/plain": [
              "Label(value='Prediction: Angular Leaf Spot. Probabilties: [0.78824663 0.19842094 0.01333238]')"
            ]
          },
          "metadata": {}
        }
      ]
    }
  ]
}